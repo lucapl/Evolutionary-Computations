{
 "cells": [
  {
   "cell_type": "markdown",
   "metadata": {},
   "source": [
    "# Assignment 2: Greedy Regret heuristics"
   ]
  },
  {
   "cell_type": "markdown",
   "metadata": {},
   "source": [
    "- Łukasz Andryszewski 151930\n",
    "- Filip Firkowski 151946"
   ]
  },
  {
   "cell_type": "markdown",
   "metadata": {},
   "source": [
    "Link to the repository is: https://github.com/lucapl/Evolutionary-Computations."
   ]
  },
  {
   "cell_type": "code",
   "execution_count": null,
   "metadata": {},
   "outputs": [],
   "source": [
    "%load_ext autoreload\n",
    "%autoreload 2\n",
    "import pandas as pd\n",
    "\n",
    "from IPython.display import display\n",
    "from io import StringIO  \n",
    "\n",
    "from utils import *\n",
    "from plotting import *\n",
    "pd.set_option('display.max_colwidth', None)"
   ]
  },
  {
   "cell_type": "markdown",
   "metadata": {},
   "source": [
    "## Description of a problem:"
   ]
  },
  {
   "cell_type": "markdown",
   "metadata": {},
   "source": [
    "The problem is about selecting exactly 50% of the nodes to form a Hamiltonian cycle that minimizes the total distance of the path and the total cost of the selected nodes."
   ]
  },
  {
   "cell_type": "markdown",
   "metadata": {},
   "source": [
    "## Pseudocode of all implemented algorithms"
   ]
  },
  {
   "cell_type": "markdown",
   "metadata": {},
   "source": [
    "<style>\n",
    "  .no-page-break {\n",
    "    page-break-inside: avoid;\n",
    "  }\n",
    "</style>\n",
    "\n",
    "<div class=\"no-page-break\">\n",
    "  <h3>Greedy 2-regret heuristics:</h3>\n",
    "  <pre>\n",
    "for solution_length:\n",
    "  for candidateIndex in solution_size + 1:\n",
    "    for city in cities_not_in_solution:\n",
    "      cost = calculate_change_in_objective_function(city, candidateIndex)\n",
    "      recordBestCost(cost)\n",
    "      recordSecondBestCost(cost)\n",
    "\n",
    "    regret = secondBestCost - bestCost \n",
    "    recordBestRegret(regret)\n",
    "\n",
    "  solution.addAt(best_regret_city, city_best_index)\n",
    "\n",
    "return solution\n",
    "  </pre>\n",
    "</div>\n",
    "\n",
    "<div class=\"no-page-break\">\n",
    "  <h3>Weighted Greedy 2-regret heuristics:</h3>\n",
    "  <pre>\n",
    "for solution_length:\n",
    "  for candidateIndex in solution_size + 1:\n",
    "    for city in cities_not_in_solution:\n",
    "      cost = calculate_change_in_objective_function(city, candidateIndex)\n",
    "      recordBestCost(cost)\n",
    "      recordSecondBestCost(cost)\n",
    "\n",
    "    regret = secondBestCost - bestCost \n",
    "    recordBestRegret(regret)\n",
    "\n",
    "    objective_value = regretWeight * regret + costWeight * (-cost)\n",
    "    recordBestObjectiveValue(objectiveValue)\n",
    "\n",
    "  solution.addAt(best_city, city_best_index)\n",
    "\n",
    "return solution\n",
    "  </pre>\n",
    "</div>"
   ]
  },
  {
   "cell_type": "markdown",
   "metadata": {},
   "source": [
    "In our implementation, the Greedy 2-regret heuristic extends the Weighted Greedy Heuristic with regretWeight = 1.0 and costWeight = 0.0. This causes it to only consider the regret when selecting the city and its location."
   ]
  },
  {
   "cell_type": "markdown",
   "metadata": {},
   "source": [
    "<style>\n",
    "  table {\n",
    "    width: 100%;\n",
    "    table-layout: fixed;\n",
    "    word-wrap: break-word;\n",
    "  }\n",
    "</style>\n",
    "\n",
    "## Results of a computational experiments"
   ]
  },
  {
   "cell_type": "code",
   "execution_count": null,
   "metadata": {},
   "outputs": [],
   "source": [
    "solver_types = ['regretHeuristic','weightedRegretHeuristic']\n",
    "instances = ['A', 'B']\n",
    "\n",
    "folder_path = '../out2'\n",
    "all_json_data = load_json_files_from_folder(folder_path)\n",
    "\n",
    "table, best_solutions = get_best_solutions_and_vertical_table(solver_types,instances,all_json_data)\n",
    "\n",
    "display_html(table,False)"
   ]
  },
  {
   "cell_type": "code",
   "execution_count": null,
   "metadata": {},
   "outputs": [],
   "source": [
    "timeTable, _ = get_best_solutions_and_vertical_table(solver_types,instances,all_json_data,\"elapsed time\")\n",
    "\n",
    "timeTable.to_html(index=False)"
   ]
  },
  {
   "cell_type": "code",
   "execution_count": null,
   "metadata": {},
   "outputs": [],
   "source": [
    "table.to_html(index=False)"
   ]
  },
  {
   "cell_type": "markdown",
   "metadata": {},
   "source": [
    "## Best solutions:"
   ]
  },
  {
   "cell_type": "markdown",
   "metadata": {},
   "source": [
    "The following solutions were checked with the solution checker."
   ]
  },
  {
   "cell_type": "code",
   "execution_count": null,
   "metadata": {},
   "outputs": [],
   "source": [
    "print_solutions(solver_types,instances,best_solutions)"
   ]
  },
  {
   "cell_type": "markdown",
   "metadata": {},
   "source": [
    "## 2D visualizations:"
   ]
  },
  {
   "cell_type": "code",
   "execution_count": null,
   "metadata": {},
   "outputs": [],
   "source": [
    "coordinates = {\n",
    "    'A': load_coordinates_from_csv('../src/main/resources/instances/TSPA.csv'),\n",
    "    'B': load_coordinates_from_csv('../src/main/resources/instances/TSPB.csv')\n",
    "}\n",
    "\n",
    "plot_all(solver_types, instances, coordinates, best_solutions)"
   ]
  },
  {
   "cell_type": "markdown",
   "metadata": {},
   "source": [
    "# Conclusions:"
   ]
  },
  {
   "cell_type": "markdown",
   "metadata": {},
   "source": [
    "The 2-regret heuristic does not produce very good results in comparison to other solvers. This is because the regret is calculated as the differnce in cost between in best and second best cost, the cost of the city is not included. However the edge length is exceptionally good.\n",
    "\n",
    "When maximizing the weighted sum of the best cost and best regret, the results are a bit better than the Greedy Cycle heuristic. In this case the weights between them were equal (0.5 and 0.5). The algorithm trades off some of the total edge length for lower cost cities.\n",
    "\n",
    "Both algorithms have complexity of $O(n^2)$, which is good in case of a NP-hard problem like TSP. The tradeoff is that there is no guarantee for an optimal solution. Because of the low complexity the and the small instance size, generating all the solutions by both solvers takes just a few seconds."
   ]
  },
  {
   "cell_type": "markdown",
   "metadata": {},
   "source": [
    "The table detailing the solutions:"
   ]
  },
  {
   "cell_type": "code",
   "execution_count": null,
   "metadata": {},
   "outputs": [],
   "source": [
    "display_html(table)"
   ]
  },
  {
   "cell_type": "markdown",
   "metadata": {},
   "source": [
    "<p style=\"page-break-after:always;\"></p>\n",
    "\n",
    "The table from the previous assignment detailing the solutions of following heuristics:\n",
    "- Random\n",
    "- Nearest Neighbour (adding only at the end)\n",
    "- Nearest Neighbour (adding anywhere in the cycle)\n",
    "- Greedy Cycle"
   ]
  },
  {
   "cell_type": "code",
   "execution_count": null,
   "metadata": {},
   "outputs": [],
   "source": [
    "previous_table = \"\"\"\n",
    "'<table border=\"1\" class=\"dataframe\">\\n  <thead>\\n    <tr style=\"text-align: right;\">\\n      <th></th>\\n      <th>A random</th>\\n      <th>B random</th>\\n      <th>A nn</th>\\n      <th>B nn</th>\\n      <th>A nnAnywhere</th>\\n      <th>B nnAnywhere</th>\\n      <th>A greedyCycle</th>\\n      <th>B greedyCycle</th>\\n    </tr>\\n  </thead>\\n  <tbody>\\n    <tr>\\n      <th>Minimum</th>\\n      <td>237318</td>\\n      <td>184762</td>\\n      <td>83182</td>\\n      <td>52319</td>\\n      <td>78896</td>\\n      <td>52992</td>\\n      <td>71488</td>\\n      <td>48765</td>\\n    </tr>\\n    <tr>\\n      <th>Maximum</th>\\n      <td>292278</td>\\n      <td>241502</td>\\n      <td>89433</td>\\n      <td>59030</td>\\n      <td>82368</td>\\n      <td>57460</td>\\n      <td>74410</td>\\n      <td>57324</td>\\n    </tr>\\n    <tr>\\n      <th>Average</th>\\n      <td>263489</td>\\n      <td>213440</td>\\n      <td>85108</td>\\n      <td>54390</td>\\n      <td>80974</td>\\n      <td>55015</td>\\n      <td>72617</td>\\n      <td>51339</td>\\n    </tr>\\n  </tbody>\\n</table>'\n",
    "\"\"\"\n",
    "\n",
    "display(HTML(previous_table))"
   ]
  }
 ],
 "metadata": {
  "kernelspec": {
   "display_name": ".venv",
   "language": "python",
   "name": "python3"
  },
  "language_info": {
   "codemirror_mode": {
    "name": "ipython",
    "version": 3
   },
   "file_extension": ".py",
   "mimetype": "text/x-python",
   "name": "python",
   "nbconvert_exporter": "python",
   "pygments_lexer": "ipython3",
   "version": "3.9.6"
  }
 },
 "nbformat": 4,
 "nbformat_minor": 4
}

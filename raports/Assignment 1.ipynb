{
 "cells": [
  {
   "cell_type": "markdown",
   "metadata": {},
   "source": [
    "# Assignment 1: Greedy heuristics"
   ]
  },
  {
   "cell_type": "markdown",
   "metadata": {},
   "source": [
    "## Description of a problem:"
   ]
  },
  {
   "cell_type": "markdown",
   "metadata": {},
   "source": [
    "The problem is about selecting exactly 50% of the nodes to form a Hamiltonian cycle that minimizes the total distance of the path and the total cost of the selected nodes."
   ]
  },
  {
   "cell_type": "markdown",
   "metadata": {},
   "source": [
    "## Pseudocode of all implemented algorithms"
   ]
  },
  {
   "cell_type": "markdown",
   "metadata": {},
   "source": [
    "- Random solution:\n",
    "    ```\n",
    "    for number_of_cities:\n",
    "        cityIndexes += index\n",
    "    shuffle_city_indexes\n",
    "    for sollution_length:\n",
    "        cityOrder += index\n",
    "    sollution = cityOrder\n",
    "    return sollution\n",
    "    ```\n",
    "\n",
    "- Nearest neighbor considering adding the node only at the end of the current path:\n",
    "    ```\n",
    "    for sollution_length:\n",
    "        for number_of_cities:\n",
    "            find_nearest_city_from_last\n",
    "        sollution += nearest_city\n",
    "    return sollution\n",
    "    ```\n",
    "\n",
    "- Nearest neighbor considering adding the node at all possible position:\n",
    "    ```\n",
    "    for sollution_length:\n",
    "        for sollution_size:\n",
    "            for number_of_cities:\n",
    "                find_nearest_city\n",
    "        sollution += nearest_city\n",
    "    return sollution\n",
    "    ```\n",
    "\n",
    "- Greedy cycle:\n",
    "    ```\n",
    "    for sollution_length:\n",
    "        for sollution_size:\n",
    "            for number_of_cities:\n",
    "                find_minimal_cycle_cost\n",
    "        sollution += nearest_city\n",
    "    return sollution\n",
    "    ```"
   ]
  },
  {
   "cell_type": "markdown",
   "metadata": {},
   "source": [
    "## Results of a computational experiments"
   ]
  },
  {
   "cell_type": "code",
   "execution_count": 673,
   "metadata": {},
   "outputs": [],
   "source": [
    "import json\n",
    "import os\n",
    "\n",
    "def load_json_files_from_folder(folder_path):\n",
    "    json_data = []\n",
    "    \n",
    "    for filename in os.listdir(folder_path):\n",
    "        if filename.endswith('.json'):\n",
    "            file_path = os.path.join(folder_path, filename)\n",
    "            with open(file_path, 'r') as file:\n",
    "                try:\n",
    "                    data = json.load(file)\n",
    "                    json_data.append(data)\n",
    "                except json.JSONDecodeError as e:\n",
    "                    print(f\"Error decoding JSON from {filename}: {e}\")\n",
    "    \n",
    "    return json_data\n",
    "\n",
    "def find_solver_type_and_instance(type, data, instance):\n",
    "    return [entry for entry in data if entry.get('solverType') == type if entry.get('instance') == instance]\n",
    "\n",
    "def find_min(data):\n",
    "    return min((entry for entry in data if 'objective function' in entry), key=lambda x: x['objective function'])\n",
    "\n",
    "def find_max(data):\n",
    "    return max((entry for entry in data if 'objective function' in entry), key=lambda x: x['objective function'])\n",
    "\n",
    "def average_cost(data):\n",
    "    objective_values = [entry['objective function'] for entry in data if 'objective function' in entry]\n",
    "    \n",
    "    return sum(objective_values) / len(objective_values) if objective_values else 0\n",
    "\n",
    "folder_path = '../out'\n",
    "all_json_data = load_json_files_from_folder(folder_path)"
   ]
  },
  {
   "cell_type": "markdown",
   "metadata": {},
   "source": [
    "Random:"
   ]
  },
  {
   "cell_type": "code",
   "execution_count": null,
   "metadata": {},
   "outputs": [],
   "source": [
    "random_data_A = find_solver_type_and_instance('random', all_json_data, 'A')\n",
    "random_data_B = find_solver_type_and_instance('random', all_json_data, 'B')\n",
    "\n",
    "print(\"Minimum from instance A\",find_min(random_data_A).get('objective function'))\n",
    "print(\"Maximum from instance A\",find_max(random_data_A).get('objective function'))\n",
    "print(\"Average from instance A\",average_cost(random_data_A))\n",
    "print(\"Minimum from instance B\",find_min(random_data_B).get('objective function'))\n",
    "print(\"Maximum from instance B\",find_max(random_data_B).get('objective function'))\n",
    "print(\"Average from instance B\",average_cost(random_data_B))"
   ]
  },
  {
   "cell_type": "markdown",
   "metadata": {},
   "source": [
    "Nearest neighbor considering adding the node only at the end of the current path:"
   ]
  },
  {
   "cell_type": "code",
   "execution_count": null,
   "metadata": {},
   "outputs": [],
   "source": [
    "nn_data_A = find_solver_type_and_instance('nn', all_json_data, 'A')\n",
    "nn_data_B = find_solver_type_and_instance('nn', all_json_data, 'B')\n",
    "\n",
    "print(\"Minimum from instance A\",find_min(nn_data_A).get('objective function'))\n",
    "print(\"Maximum from instance A\",find_max(nn_data_A).get('objective function'))\n",
    "print(\"Average from instance A\",average_cost(nn_data_A))\n",
    "print(\"Minimum from instance B\",find_min(nn_data_B).get('objective function'))\n",
    "print(\"Maximum from instance B\",find_max(nn_data_B).get('objective function'))\n",
    "print(\"Average from instance B\",average_cost(nn_data_B))"
   ]
  },
  {
   "cell_type": "markdown",
   "metadata": {},
   "source": [
    "Nearest neighbor considering adding the node at all possible position:"
   ]
  },
  {
   "cell_type": "code",
   "execution_count": null,
   "metadata": {},
   "outputs": [],
   "source": [
    "nnAnywhere_data_A = find_solver_type_and_instance('nnAnywhere', all_json_data, 'A')\n",
    "nnAnywhere_data_B = find_solver_type_and_instance('nnAnywhere', all_json_data, 'B')\n",
    "\n",
    "print(\"Minimum from instance A\",find_min(nnAnywhere_data_A).get('objective function'))\n",
    "print(\"Maximum from instance A\",find_max(nnAnywhere_data_A).get('objective function'))\n",
    "print(\"Average from instance A\",average_cost(nnAnywhere_data_A))\n",
    "print(\"Minimum from instance B\",find_min(nnAnywhere_data_B).get('objective function'))\n",
    "print(\"Maximum from instance B\",find_max(nnAnywhere_data_B).get('objective function'))\n",
    "print(\"Average from instance B\",average_cost(nnAnywhere_data_B))"
   ]
  },
  {
   "cell_type": "markdown",
   "metadata": {},
   "source": [
    "Greedy:"
   ]
  },
  {
   "cell_type": "code",
   "execution_count": null,
   "metadata": {},
   "outputs": [],
   "source": [
    "greedy_data_A = find_solver_type_and_instance('nnAnywhere', all_json_data, 'A')\n",
    "greedy_data_B = find_solver_type_and_instance('nnAnywhere', all_json_data, 'B')\n",
    "\n",
    "print(\"Minimum from instance A\",find_min(greedy_data_A).get('objective function'))\n",
    "print(\"Maximum from instance A\",find_max(greedy_data_A).get('objective function'))\n",
    "print(\"Average from instance A\",average_cost(greedy_data_A))\n",
    "print(\"Minimum from instance B\",find_min(greedy_data_B).get('objective function'))\n",
    "print(\"Maximum from instance B\",find_max(greedy_data_B).get('objective function'))\n",
    "print(\"Average from instance B\",average_cost(greedy_data_B))"
   ]
  },
  {
   "cell_type": "markdown",
   "metadata": {},
   "source": [
    "## The best sollutions:"
   ]
  },
  {
   "cell_type": "code",
   "execution_count": null,
   "metadata": {},
   "outputs": [],
   "source": [
    "best_solution_random_A = find_min(random_data_A)\n",
    "best_solution_random_B = find_min(random_data_B)\n",
    "best_solution_nn_A = find_min(nn_data_A)\n",
    "best_solution_nn_B = find_min(nn_data_B)\n",
    "best_solution_nnAnywhere_A = find_min(nnAnywhere_data_A)\n",
    "best_solution_nnAnywhere_B = find_min(nnAnywhere_data_B)\n",
    "best_solution_greedy_A = find_min(greedy_data_A)\n",
    "best_solution_greedy_B = find_min(greedy_data_B)\n",
    "\n",
    "print(\"Best sollution from instance A random\", best_solution_random_A.get('cityOrder'))\n",
    "print(\"Best sollution from instance B random\", best_solution_random_B.get('cityOrder'))\n",
    "print(\"Best sollution from instance A nearest neighbour\", best_solution_nn_A.get('cityOrder'))\n",
    "print(\"Best sollution from instance B nearest neighbour\", best_solution_nn_B.get('cityOrder'))\n",
    "print(\"Best sollution from instance A nearest neighbour anywhere\", best_solution_nnAnywhere_A.get('cityOrder'))\n",
    "print(\"Best sollution from instance B nearest neighbour anywhere\", best_solution_nnAnywhere_B.get('cityOrder'))\n",
    "print(\"Best sollution from instance A greedy\", best_solution_greedy_A.get('cityOrder'))\n",
    "print(\"Best sollution from instance B greedy\", best_solution_greedy_B.get('cityOrder'))"
   ]
  },
  {
   "cell_type": "markdown",
   "metadata": {},
   "source": [
    "## 2D visualization"
   ]
  },
  {
   "cell_type": "code",
   "execution_count": null,
   "metadata": {},
   "outputs": [],
   "source": [
    "import pandas as pd\n",
    "from plotnine import ggplot, aes, geom_point, scale_color_gradient, labs, theme_minimal, geom_path\n",
    "\n",
    "def load_coordinates_from_csv(csv_path):\n",
    "    return pd.read_csv(csv_path, sep=';', header=None)\n",
    "\n",
    "def prepare_data_for_plot(best_solution, coordinates_df):\n",
    "    rows = []\n",
    "    city_order = best_solution['cityOrder']\n",
    "    \n",
    "    for node_index in city_order:\n",
    "        coord = coordinates_df.iloc[node_index]\n",
    "        rows.append({\n",
    "            'x': coord[0],\n",
    "            'y': coord[1],\n",
    "            'cost': coord[2],\n",
    "        })\n",
    "    rows.append(rows[0])\n",
    "    return pd.DataFrame(rows)\n",
    "\n",
    "def plot_solution(solution, coordinates_df, title):\n",
    "    solution_df = prepare_data_for_plot(solution, coordinates_df)\n",
    "\n",
    "    p = (ggplot() +\n",
    "         geom_point(aes(x=coordinates_df[0], y=coordinates_df[1]), data=coordinates_df, color='grey', alpha=0.5, size=3) +\n",
    "         geom_path(aes(x='x', y='y'), data=solution_df, color='black', size=1) +\n",
    "         geom_point(aes(x='x', y='y', color='cost', size='cost'), data=solution_df, alpha=0.5) +\n",
    "         scale_color_gradient(low='blue', high='red') +\n",
    "         labs(title=title) +\n",
    "         theme_minimal())\n",
    "    \n",
    "    return p\n",
    "\n",
    "coordinates_A = load_coordinates_from_csv('../src/main/resources/instances/TSPA.csv')\n",
    "coordinates_B = load_coordinates_from_csv('../src/main/resources/instances/TSPB.csv')\n",
    "\n",
    "random_A = plot_solution(best_solution_random_A, coordinates_A, \"Best Solution from Instance A (Random)\")\n",
    "random_B = plot_solution(best_solution_random_A, coordinates_B, \"Best Solution from Instance B (Random)\")\n",
    "nn_A = plot_solution(best_solution_nn_A, coordinates_A, \"Best Solution from Instance A (Nearest Neighbour)\")\n",
    "nn_B = plot_solution(best_solution_nn_B, coordinates_B, \"Best Solution from Instance B (Nearest Neighbour)\")\n",
    "nnAnywhere_A = plot_solution(best_solution_nnAnywhere_A, coordinates_A, \"Best Solution from Instance A (Nearest Neighbour Anywhere)\")\n",
    "nnAnywhere_B = plot_solution(best_solution_nnAnywhere_B, coordinates_B, \"Best Solution from Instance B (Nearest Neighbour Anywhere)\")\n",
    "greedy_A = plot_solution(best_solution_greedy_A, coordinates_A, \"Best Solution from Instance A (Greedy)\")\n",
    "greedy_B = plot_solution(best_solution_greedy_B, coordinates_B, \"Best Solution from Instance B (Greedy)\")\n",
    "\n",
    "random_A.show()\n",
    "random_B.show()\n",
    "nn_A.show()\n",
    "nn_B.show()\n",
    "nnAnywhere_A.show()\n",
    "nnAnywhere_B.show()\n",
    "greedy_A.show()\n",
    "greedy_B.show()"
   ]
  },
  {
   "cell_type": "markdown",
   "metadata": {},
   "source": [
    "# Conclusions:"
   ]
  },
  {
   "cell_type": "markdown",
   "metadata": {},
   "source": [
    "The sollutions were checked with a checker, and a link to the repository is: https://github.com/lucapl/Evolutionary-Computations."
   ]
  },
  {
   "cell_type": "markdown",
   "metadata": {},
   "source": []
  }
 ],
 "metadata": {
  "kernelspec": {
   "display_name": "Python 3",
   "language": "python",
   "name": "python3"
  },
  "language_info": {
   "codemirror_mode": {
    "name": "ipython",
    "version": 3
   },
   "file_extension": ".py",
   "mimetype": "text/x-python",
   "name": "python",
   "nbconvert_exporter": "python",
   "pygments_lexer": "ipython3",
   "version": "3.12.2"
  }
 },
 "nbformat": 4,
 "nbformat_minor": 2
}

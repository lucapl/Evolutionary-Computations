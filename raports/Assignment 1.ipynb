{
 "cells": [
  {
   "cell_type": "markdown",
   "metadata": {},
   "source": [
    "# Assignment 1: Greedy heuristics"
   ]
  },
  {
   "cell_type": "markdown",
   "metadata": {},
   "source": [
    "## Description of a problem:"
   ]
  },
  {
   "cell_type": "markdown",
   "metadata": {},
   "source": [
    "The problem is about selecting exactly 50% of the nodes to form a Hamiltonian cycle that minimizes the total distance of the path and the total cost of the selected nodes."
   ]
  },
  {
   "cell_type": "markdown",
   "metadata": {},
   "source": [
    "## Pseudocode of all implemented algorithms"
   ]
  },
  {
   "cell_type": "markdown",
   "metadata": {},
   "source": [
    "- Random solution:\n",
    "    ```\n",
    "    for number_of_cities:\n",
    "        cityIndexes += index\n",
    "    shuffle_city_indexes\n",
    "    for sollution_length:\n",
    "        cityOrder += index\n",
    "    sollution = cityOrder\n",
    "    return sollution\n",
    "    ```\n",
    "\n",
    "- Nearest neighbor considering adding the node only at the end of the current path:\n",
    "    ```\n",
    "    for sollution_length:\n",
    "        for number_of_cities:\n",
    "            find_nearest_city_from_last\n",
    "        sollution += nearest_city\n",
    "    return sollution\n",
    "    ```\n",
    "\n",
    "- Nearest neighbor considering adding the node at all possible position:\n",
    "    ```\n",
    "    for sollution_length:\n",
    "        for sollution_size:\n",
    "            for number_of_cities:\n",
    "                find_nearest_city\n",
    "        sollution += nearest_city\n",
    "    return sollution\n",
    "    ```\n",
    "\n",
    "- Greedy cycle:\n",
    "    ```\n",
    "    for sollution_length:\n",
    "        for sollution_size:\n",
    "            for number_of_cities:\n",
    "                find_minimal_cycle_cost\n",
    "        sollution += nearest_city\n",
    "    return sollution\n",
    "    ```"
   ]
  },
  {
   "cell_type": "markdown",
   "metadata": {},
   "source": [
    "## Results of a computational experiments"
   ]
  },
  {
   "cell_type": "code",
   "execution_count": null,
   "metadata": {},
   "outputs": [],
   "source": [
    "import json\n",
    "import os\n",
    "\n",
    "def load_json_files_from_folder(folder_path):\n",
    "    json_data = []\n",
    "    \n",
    "    for filename in os.listdir(folder_path):\n",
    "        if filename.endswith('.json'):\n",
    "            file_path = os.path.join(folder_path, filename)\n",
    "            with open(file_path, 'r') as file:\n",
    "                try:\n",
    "                    data = json.load(file)\n",
    "                    json_data.append(data)\n",
    "                except json.JSONDecodeError as e:\n",
    "                    print(f\"Error decoding JSON from {filename}: {e}\")\n",
    "    \n",
    "    return json_data\n",
    "\n",
    "def find_solver_type_and_instance(type, data, instance):\n",
    "    return [entry for entry in data if entry.get('solverType') == type if entry.get('instance') == instance]\n",
    "\n",
    "def find_min(data):\n",
    "    return min((entry for entry in data if 'objective function' in entry), key=lambda x: x['objective function'])\n",
    "\n",
    "def find_max(data):\n",
    "    return max((entry for entry in data if 'objective function' in entry), key=lambda x: x['objective function'])\n",
    "\n",
    "def average_cost(data):\n",
    "    objective_values = [entry['objective function'] for entry in data if 'objective function' in entry]\n",
    "    \n",
    "    return sum(objective_values) / len(objective_values) if objective_values else 0\n",
    "\n",
    "solver_types = ['random', 'nn', 'nnAnywhere', 'greedyCycle']\n",
    "instances = ['A', 'B']\n",
    "\n",
    "def process_solver_data(solver_type, all_json_data, instance):\n",
    "    data = find_solver_type_and_instance(solver_type, all_json_data, instance)\n",
    "    print(f\"Minimum from instance {instance} ({solver_type})\", find_min(data).get('objective function'))\n",
    "    print(f\"Maximum from instance {instance} ({solver_type})\", find_max(data).get('objective function'))\n",
    "    print(f\"Average from instance {instance} ({solver_type})\", average_cost(data))\n",
    "    return find_min(data)\n",
    "\n",
    "folder_path = '../out'\n",
    "all_json_data = load_json_files_from_folder(folder_path)\n",
    "\n",
    "best_solutions = {}\n",
    "for solver in solver_types:\n",
    "    for instance in instances:\n",
    "        best_solutions[f'{solver}_{instance}'] = process_solver_data(solver, all_json_data, instance)\n"
   ]
  },
  {
   "cell_type": "markdown",
   "metadata": {},
   "source": [
    "## Best solutions:"
   ]
  },
  {
   "cell_type": "code",
   "execution_count": null,
   "metadata": {},
   "outputs": [],
   "source": [
    "for solver in solver_types:\n",
    "    for instance in instances:\n",
    "        best_solution = best_solutions[f'{solver}_{instance}']\n",
    "        print(f\"Best solution from instance {instance} ({solver})\", best_solution.get('cityOrder'))"
   ]
  },
  {
   "cell_type": "markdown",
   "metadata": {},
   "source": [
    "## 2D visualizations:"
   ]
  },
  {
   "cell_type": "code",
   "execution_count": null,
   "metadata": {},
   "outputs": [],
   "source": [
    "import pandas as pd\n",
    "from plotnine import ggplot, aes, geom_point, scale_color_gradient, labs, theme_minimal, geom_path\n",
    "\n",
    "def load_coordinates_from_csv(csv_path):\n",
    "    return pd.read_csv(csv_path, sep=';', header=None)\n",
    "\n",
    "def prepare_data_for_plot(best_solution, coordinates_df):\n",
    "    rows = []\n",
    "    city_order = best_solution['cityOrder']\n",
    "    \n",
    "    for node_index in city_order:\n",
    "        coord = coordinates_df.iloc[node_index]\n",
    "        rows.append({\n",
    "            'x': coord[0],\n",
    "            'y': coord[1],\n",
    "            'cost': coord[2],\n",
    "        })\n",
    "    rows.append(rows[0])\n",
    "    return pd.DataFrame(rows)\n",
    "\n",
    "def plot_solution(solution, coordinates_df, title):\n",
    "    solution_df = prepare_data_for_plot(solution, coordinates_df)\n",
    "\n",
    "    p = (ggplot() +\n",
    "         geom_point(aes(x=coordinates_df[0], y=coordinates_df[1]), data=coordinates_df, color='grey', alpha=0.5, size=3) +\n",
    "         geom_path(aes(x='x', y='y'), data=solution_df, color='black', size=1) +\n",
    "         geom_point(aes(x='x', y='y', color='cost', size='cost'), data=solution_df, alpha=0.5) +\n",
    "         scale_color_gradient(low='blue', high='red') +\n",
    "         labs(title=title) +\n",
    "         theme_minimal())\n",
    "    \n",
    "    return p\n",
    "\n",
    "coordinates = {\n",
    "    'A': load_coordinates_from_csv('../src/main/resources/instances/TSPA.csv'),\n",
    "    'B': load_coordinates_from_csv('../src/main/resources/instances/TSPB.csv')\n",
    "}\n",
    "\n",
    "for solver in solver_types:\n",
    "    for instance in instances:\n",
    "        best_solution = best_solutions[f'{solver}_{instance}']\n",
    "        title = f\"Best Solution from Instance {instance} ({solver.capitalize()})\"\n",
    "        plot_solution(best_solution, coordinates[instance], title).show()"
   ]
  },
  {
   "cell_type": "markdown",
   "metadata": {},
   "source": [
    "# Conclusions:"
   ]
  },
  {
   "cell_type": "markdown",
   "metadata": {},
   "source": [
    "The sollutions were checked with a checker, and a link to the repository is: https://github.com/lucapl/Evolutionary-Computations."
   ]
  },
  {
   "cell_type": "markdown",
   "metadata": {},
   "source": [
    "Based on the performance of all solvers it's easy to say that random is the worst. On average it attained a score 50000 points below the rest. It's variance is also huge having over 1m difference in some results. Nearest neighbour taken from the end was far better, but still worse than the rest. It's best sollution was over 10000 points worse than the rest. It's better counterpart, nearest neighbour from any point, attained score of 168648.0 on instance A and 141524.0 on instance B. It is worth mentioning that it might not always be strictly better than nearest neighbour, due to greedy nature of both the algorithms. Lastly the greedy cycle performed the best of all 4, but not by much. The lowest of all it's scores was 130700.0 attained on instance B. It is worth mentioning that all algorithms were really fast, as they had only n^2 complexity. Over all looking at the graphs it is easy to see that all the greedy algorithms are far from optimal, and take routes that only seem good at first, not realising the big picture."
   ]
  }
 ],
 "metadata": {
  "kernelspec": {
   "display_name": "Python 3",
   "language": "python",
   "name": "python3"
  },
  "language_info": {
   "codemirror_mode": {
    "name": "ipython",
    "version": 3
   },
   "file_extension": ".py",
   "mimetype": "text/x-python",
   "name": "python",
   "nbconvert_exporter": "python",
   "pygments_lexer": "ipython3",
   "version": "3.12.2"
  }
 },
 "nbformat": 4,
 "nbformat_minor": 2
}

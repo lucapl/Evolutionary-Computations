{
 "cells": [
  {
   "cell_type": "markdown",
   "metadata": {},
   "source": [
    "# Assignment 1: Greedy heuristics"
   ]
  },
  {
   "cell_type": "markdown",
   "metadata": {},
   "source": [
    "- Łukasz Andryszewski 151930\n",
    "- Filip Firkowski 151946"
   ]
  },
  {
   "cell_type": "code",
   "execution_count": null,
   "metadata": {},
   "outputs": [],
   "source": [
    "%load_ext autoreload\n",
    "%autoreload 2\n",
    "import pandas as pd\n",
    "\n",
    "from IPython.display import display\n",
    "\n",
    "from utils import *\n",
    "from plotting import *\n",
    "pd.set_option('display.max_colwidth', None)"
   ]
  },
  {
   "cell_type": "markdown",
   "metadata": {},
   "source": [
    "## Description of a problem:"
   ]
  },
  {
   "cell_type": "markdown",
   "metadata": {},
   "source": [
    "The problem is about selecting exactly 50% of the nodes to form a Hamiltonian cycle that minimizes the total distance of the path and the total cost of the selected nodes."
   ]
  },
  {
   "cell_type": "markdown",
   "metadata": {},
   "source": [
    "## Pseudocode of all implemented algorithms"
   ]
  },
  {
   "cell_type": "markdown",
   "metadata": {},
   "source": [
    "<style>\n",
    "  .no-page-break {\n",
    "    page-break-inside: avoid;\n",
    "  }\n",
    "</style>\n",
    "\n",
    "<div class=\"no-page-break\">\n",
    "  <h3>Random Solution:</h3>\n",
    "  <pre>\n",
    "for index in number_of_cities:\n",
    "    city_indexes += index\n",
    "\n",
    "shuffle(city_indexes)\n",
    "\n",
    "for index in city_indexes:\n",
    "    city_order += index\n",
    "\n",
    "solution = city_order\n",
    "\n",
    "return solution\n",
    "  </pre>\n",
    "</div>\n",
    "\n",
    "<div class=\"no-page-break\">\n",
    "  <h3>Nearest Neighbor (Only adding the node at the end of the current path):</h3>\n",
    "  <pre>\n",
    "for solution_length:\n",
    "    for city in cities_not_in_solution:\n",
    "        cost = calculate_cost_from_last(city) + city.cost\n",
    "    solution += minimum_cost_city\n",
    "\n",
    "return solution\n",
    "  </pre>\n",
    "</div>\n",
    "\n",
    "<div class=\"no-page-break\">\n",
    "  <h3>Nearest Neighbor (Adding the node at all possible positions):</h3>\n",
    "  <pre>\n",
    "for solution_length:\n",
    "    for candidate_index in solution_size + 1:\n",
    "        for city in cities_not_in_solution:\n",
    "            cost = calculate_cost_from_previous_neighbour(city, candidate_index) + city.cost\n",
    "    solution.addAt(minimum_cost_city, minimum_cost_index)\n",
    "\n",
    "return solution\n",
    "  </pre>\n",
    "</div>\n",
    "\n",
    "<div class=\"no-page-break\">\n",
    "  <h3>Greedy Cycle:</h3>\n",
    "  <pre>\n",
    "for solution_length:\n",
    "    for candidateIndex in solution_size + 1:\n",
    "        for city in cities_not_in_solution:\n",
    "            cost = calculate_change_in_objective_function(city, candidateIndex)\n",
    "    solution.addAt(minimum_cost_city, minimum_cost_index)\n",
    "\n",
    "return solution\n",
    "  </pre>\n",
    "</div>\n"
   ]
  },
  {
   "cell_type": "markdown",
   "metadata": {},
   "source": [
    "<style>\n",
    "  table {\n",
    "    width: 100%;\n",
    "    table-layout: fixed;\n",
    "    word-wrap: break-word;\n",
    "  }\n",
    "</style>\n",
    "\n",
    "## Results of a computational experiments"
   ]
  },
  {
   "cell_type": "code",
   "execution_count": null,
   "metadata": {},
   "outputs": [],
   "source": [
    "solver_types = ['random', 'nn', 'nnAnywhere', 'greedyCycle']\n",
    "instances = ['A', 'B']\n",
    "\n",
    "folder_path = '../out1'\n",
    "all_json_data = load_json_files_from_folder(folder_path)\n",
    "\n",
    "table, best_solutions = get_best_solutions_and_vertical_table(solver_types,instances,all_json_data)\n",
    "\n",
    "display_html(table)"
   ]
  },
  {
   "cell_type": "code",
   "execution_count": null,
   "metadata": {},
   "outputs": [],
   "source": [
    "timeTable, _ = get_best_solutions_and_vertical_table(solver_types,instances,all_json_data,\"elapsed time\")\n",
    "\n",
    "timeTable.to_html(index=False)"
   ]
  },
  {
   "cell_type": "code",
   "execution_count": null,
   "metadata": {},
   "outputs": [],
   "source": [
    "table.to_html(index=False)"
   ]
  },
  {
   "cell_type": "markdown",
   "metadata": {},
   "source": [
    "## Best solutions:"
   ]
  },
  {
   "cell_type": "code",
   "execution_count": null,
   "metadata": {},
   "outputs": [],
   "source": [
    "print_solutions(solver_types,instances,best_solutions)"
   ]
  },
  {
   "cell_type": "markdown",
   "metadata": {},
   "source": [
    "## 2D visualizations:"
   ]
  },
  {
   "cell_type": "code",
   "execution_count": null,
   "metadata": {},
   "outputs": [],
   "source": [
    "coordinates = {\n",
    "    'A': load_coordinates_from_csv('../src/main/resources/instances/TSPA.csv'),\n",
    "    'B': load_coordinates_from_csv('../src/main/resources/instances/TSPB.csv')\n",
    "}\n",
    "\n",
    "plot_all(solver_types, instances, coordinates, best_solutions)"
   ]
  },
  {
   "cell_type": "markdown",
   "metadata": {},
   "source": [
    "<p style=\"page-break-after:always;\"></p>\n",
    "\n",
    "# Conclusions:"
   ]
  },
  {
   "cell_type": "markdown",
   "metadata": {},
   "source": [
    "The sollutions were checked with a checker, and a link to the repository is: https://github.com/lucapl/Evolutionary-Computations."
   ]
  },
  {
   "cell_type": "markdown",
   "metadata": {},
   "source": [
    "Based on the performance of all solvers it's easy to say that random is the worst. On average it attained a score 150000 points below the rest. It's variance is also huge having over 50000 difference in some results. \n",
    "\n",
    "Nearest neighbour algorithm was far better, but still worse than the rest. It's best sollution was over 100000 points worse than the rest.\n",
    "\n",
    "It's modification, considering any place to add the city not only the end, attained scores of 78896.0 on instance A and 52992.0 on instance B. It is strictly a better version of the default nearest neighbour as it tries more location, while calculating the cost identically.\n",
    "\n",
    "Lastly the greedy cycle performed the best. It performed quite better than nnAnywhere. It is worth mentioning that all algorithms were really fast, as they had only n^2 complexity, which is good for an NP-hard problem.\n",
    "\n",
    "Overall looking at the graphs it is easy to see that all the greedy algorithms are far from optimal, and take routes that only seem good at first, not realising the big picture.\n",
    "\n",
    "The table for reference"
   ]
  },
  {
   "cell_type": "code",
   "execution_count": null,
   "metadata": {},
   "outputs": [],
   "source": [
    "display_html(table)"
   ]
  }
 ],
 "metadata": {
  "kernelspec": {
   "display_name": ".venv",
   "language": "python",
   "name": "python3"
  },
  "language_info": {
   "codemirror_mode": {
    "name": "ipython",
    "version": 3
   },
   "file_extension": ".py",
   "mimetype": "text/x-python",
   "name": "python",
   "nbconvert_exporter": "python",
   "pygments_lexer": "ipython3",
   "version": "3.9.6"
  }
 },
 "nbformat": 4,
 "nbformat_minor": 4
}

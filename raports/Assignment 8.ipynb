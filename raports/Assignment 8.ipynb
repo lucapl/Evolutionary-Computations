{
 "cells": [
  {
   "cell_type": "markdown",
   "metadata": {},
   "source": [
    "# Assignment 8: Similarity measures"
   ]
  },
  {
   "cell_type": "markdown",
   "metadata": {},
   "source": [
    "- Łukasz Andryszewski 151930\n",
    "- Filip Firkowski 151946"
   ]
  },
  {
   "cell_type": "markdown",
   "metadata": {},
   "source": [
    "Link to the repository is: https://github.com/lucapl/Evolutionary-Computations."
   ]
  },
  {
   "cell_type": "code",
   "execution_count": 1,
   "metadata": {},
   "outputs": [],
   "source": [
    "%matplotlib inline\n",
    "%load_ext autoreload\n",
    "%autoreload 2\n",
    "import pandas as pd\n",
    "import numpy as np\n",
    "\n",
    "from utils import *\n",
    "from plotting import *\n",
    "from similarity import nodes_similarity , edges_similarity, similarity_matrix, add_edges, similarity_to_best, similarity_average\n",
    "pd.set_option('display.max_colwidth', None)"
   ]
  },
  {
   "cell_type": "markdown",
   "metadata": {},
   "source": [
    "## Description of a problem:"
   ]
  },
  {
   "cell_type": "markdown",
   "metadata": {},
   "source": [
    "The problem is about selecting exactly 50% of the nodes to form a Hamiltonian cycle that minimizes the total distance of the path and the total cost of the selected nodes.\n",
    "\n",
    "In this raport we measure similarity between different local optimas."
   ]
  },
  {
   "cell_type": "markdown",
   "metadata": {},
   "source": [
    "## Pseudocode of similarity measures"
   ]
  },
  {
   "cell_type": "markdown",
   "metadata": {},
   "source": [
    "<style>\n",
    "  .no-page-break {\n",
    "    page-break-inside: avoid;\n",
    "  }\n",
    "</style>\n",
    "\n",
    "<div class=\"no-page-break\">\n",
    "  <h3>Nodes similarity</h3>\n",
    "  <pre>\n",
    "  function node_similarity(solution1, solution2):\n",
    "    return len(set.AND(set(solution1.cityOrder), set(solution2.cityOrder))) / len(solution.cityOrder)\n",
    "  </pre>\n",
    "</div>\n",
    "\n",
    "<div class=\"no-page-break\">\n",
    "  <h3>Edges similarity</h3>\n",
    "  <pre>\n",
    "  function edge_similarity(solution1, solution2):\n",
    "    createEdges(solution1)\n",
    "    createEdges(solution2)\n",
    "    return len(set.AND(set(solution1.edges), set(solution2.edges))) / len(solution.edges)\n",
    "  </pre>\n",
    "\n",
    "  <pre>\n",
    "  function createEdges(solution):\n",
    "    for i in len(solution.cityOrder):\n",
    "      city_1 = solution.cityOrder[i]\n",
    "      city_2 = solution.cityOrder[i+1]\n",
    "      solution.edges.add((min(city_1, city_2), max(city_1, city_2)))\n",
    "  </pre>\n",
    "</div>\n"
   ]
  },
  {
   "cell_type": "markdown",
   "metadata": {},
   "source": [
    "When calculating the similarity in terms of edges in the solution, the edges are counted no matter their direction."
   ]
  },
  {
   "cell_type": "markdown",
   "metadata": {},
   "source": [
    "<style>\n",
    "  table {\n",
    "    width: 100%;\n",
    "    table-layout: fixed;\n",
    "    word-wrap: break-word;\n",
    "  }\n",
    "</style>\n",
    "\n",
    "## Results of a computational experiments"
   ]
  },
  {
   "cell_type": "markdown",
   "metadata": {},
   "source": [
    "The greedy local search was run 1000 times. It uses the edges neighbourhood."
   ]
  },
  {
   "cell_type": "code",
   "execution_count": 2,
   "metadata": {},
   "outputs": [],
   "source": [
    "solver_types = [\"-\".join([\"localSearch\",\"Greedy\",\"Edges\",\"Random\"])]\n",
    "instances = ['A', 'B']\n",
    "\n",
    "all_json_data = load_all_json_data(solver_types,folder_path='../out8/')\n",
    "add_edges(all_json_data)\n",
    "\n",
    "table, best_solutions = get_best_solutions_and_vertical_table(solver_types,instances,all_json_data)"
   ]
  },
  {
   "cell_type": "code",
   "execution_count": null,
   "metadata": {},
   "outputs": [],
   "source": [
    "display_html(table,False)"
   ]
  },
  {
   "cell_type": "code",
   "execution_count": 4,
   "metadata": {},
   "outputs": [],
   "source": [
    "similarities_names, similarities = ('nodes','edges'), (nodes_similarity, edges_similarity)\n",
    "\n",
    "similarity_matrices = {}\n",
    "for instance in instances:\n",
    "    if instance not in similarity_matrices:\n",
    "        similarity_matrices[instance] = {}\n",
    "    for name, similarity_measure in zip(similarities_names, similarities):\n",
    "        similarity_matrices[instance][name] = similarity_matrix(all_json_data, instance, similarity_measure)"
   ]
  },
  {
   "cell_type": "code",
   "execution_count": null,
   "metadata": {},
   "outputs": [],
   "source": [
    "simils_to, simils_to_funcs = (\"to the best solution\", \"average to each\"), (similarity_to_best, similarity_average)\n",
    "\n",
    "for instance in instances:\n",
    "    for simil_name in similarities_names:\n",
    "        for simil_to, simils_to_func in zip(simils_to, simils_to_funcs):\n",
    "            data = simils_to_func(all_json_data,instance,similarity_matrices[instance][simil_name])\n",
    "            plot_similarity_data(\n",
    "                data,\n",
    "                f\"{simil_name.capitalize()} similarity - {simil_to} for instance {instance}\"\n",
    "            )"
   ]
  },
  {
   "cell_type": "code",
   "execution_count": null,
   "metadata": {},
   "outputs": [],
   "source": [
    "short_to = (\"best\", \"average\")\n",
    "for instance in instances:\n",
    "    for simil_name in similarities_names:\n",
    "        for simil_to, simils_to_func in zip(short_to, simils_to_funcs):\n",
    "            data = simils_to_func(all_json_data,instance,similarity_matrices[instance][simil_name])\n",
    "            x, y = data[:, 0], data[:, 1]\n",
    "            plt.scatter(x, y, label=f\"{simil_name}-{simil_to}-{instance}\")\n",
    "            plt.xlabel(\"Objective function\")\n",
    "            plt.ylabel(\"Similarity value\")\n",
    "            plt.title(\"Entire data\")\n",
    "            plt.legend()\n",
    "plt.show()"
   ]
  },
  {
   "cell_type": "markdown",
   "metadata": {},
   "source": [
    "# Conclusions:\n",
    "\n",
    "The most consistent trend in the data is that the with the increase in objective function theres an increase in similarity. That means that local minima are more likely to be similar to each other, especially when it comes to the choice of cities.\n",
    "\n",
    "There is a bigger drop in similarity when it comes to edges present. This means that local minima often choose the same cities, but connect them quite differently.\n",
    "\n",
    "If a straight line was made to fit the data, it would be much steeper for similarities in relation to the best solution, as opposed to the \"average\". It is much more noticible in the edges similarity."
   ]
  }
 ],
 "metadata": {
  "kernelspec": {
   "display_name": ".venv",
   "language": "python",
   "name": "python3"
  },
  "language_info": {
   "codemirror_mode": {
    "name": "ipython",
    "version": 3
   },
   "file_extension": ".py",
   "mimetype": "text/x-python",
   "name": "python",
   "nbconvert_exporter": "python",
   "pygments_lexer": "ipython3",
   "version": "3.9.6"
  }
 },
 "nbformat": 4,
 "nbformat_minor": 4
}

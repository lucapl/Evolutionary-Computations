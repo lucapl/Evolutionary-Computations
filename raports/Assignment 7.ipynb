{
 "cells": [
  {
   "cell_type": "markdown",
   "metadata": {},
   "source": [
    "# Assignment 7: Large neighborhood search"
   ]
  },
  {
   "cell_type": "markdown",
   "metadata": {},
   "source": [
    "- Łukasz Andryszewski 151930\n",
    "- Filip Firkowski 151946"
   ]
  },
  {
   "cell_type": "markdown",
   "metadata": {},
   "source": [
    "Link to the repository is: https://github.com/lucapl/Evolutionary-Computations."
   ]
  },
  {
   "cell_type": "code",
   "execution_count": 1,
   "metadata": {},
   "outputs": [],
   "source": [
    "%load_ext autoreload\n",
    "%autoreload 2\n",
    "import pandas as pd\n",
    "\n",
    "from utils import *\n",
    "from plotting import *\n",
    "pd.set_option('display.max_colwidth', None)"
   ]
  },
  {
   "cell_type": "markdown",
   "metadata": {},
   "source": [
    "## Description of a problem:"
   ]
  },
  {
   "cell_type": "markdown",
   "metadata": {},
   "source": [
    "The problem is about selecting exactly 50% of the nodes to form a Hamiltonian cycle that minimizes the total distance of the path and the total cost of the selected nodes.\n",
    "\n",
    "In this report the candidate edges mechanism is evaluated. The goal being to speed up the steepest local search algorithm."
   ]
  },
  {
   "cell_type": "markdown",
   "metadata": {},
   "source": [
    "## Pseudocode of all implemented algorithms"
   ]
  },
  {
   "cell_type": "markdown",
   "metadata": {},
   "source": [
    "<style>\n",
    "  .no-page-break {\n",
    "    page-break-inside: avoid;\n",
    "  }\n",
    "</style>\n",
    "\n",
    "<div class=\"no-page-break\">\n",
    "  <h3>Large neighborhood search:</h3>\n",
    "  <pre>\n",
    "function LargeNeighborhoodSearch():\n",
    "    x = GenerateInitialSolution()\n",
    "    x = OptionalLocalSearch(x)\n",
    "    bestObjectiveValue = ObjectiveValue(x)\n",
    "\n",
    "    while time < MSLS_time:\n",
    "        y = Destroy(x)\n",
    "        y = Repair(y)\n",
    "        y = OptionalLocalSearch(y)\n",
    "        \n",
    "        if ObjectiveValue(y) < ObjectiveValue(x):\n",
    "            x = y\n",
    "            bestObjectiveValue = ObjectiveValue(y)\n",
    "        elif ShouldAcceptWorseSolution(y, x):\n",
    "            x = y\n",
    "\n",
    "    return x\n",
    "\n",
    "  </pre>\n",
    "</div>\n",
    "\n",
    "<div class=\"no-page-break\">\n",
    "  <pre>\n",
    "function Destroy(solution):\n",
    "    destroyedSolution = Copy(solution)\n",
    "    for i in random(20,30):\n",
    "        RemoveRandomCity(destroyedSolution, city)\n",
    "    return destroyedSolution\n",
    "  </pre>\n",
    "</div>\n",
    "\n",
    "<div class=\"no-page-break\">\n",
    "  <pre>\n",
    "function Repair(solution):\n",
    "    return solution.greedyRegret(50, 50)\n",
    "  </pre>\n",
    "</div>\n"
   ]
  },
  {
   "cell_type": "markdown",
   "metadata": {},
   "source": [
    "<style>\n",
    "  table {\n",
    "    width: 100%;\n",
    "    table-layout: fixed;\n",
    "    word-wrap: break-word;\n",
    "  }\n",
    "</style>\n",
    "\n",
    "## Results of a computational experiments"
   ]
  },
  {
   "cell_type": "markdown",
   "metadata": {},
   "source": [
    "Each LNS method was run 20 times for each instance"
   ]
  },
  {
   "cell_type": "code",
   "execution_count": 2,
   "metadata": {},
   "outputs": [],
   "source": [
    "solver_types = [\"LargeNeighborhoodSearchLocal-random-withLS\", \"LargeNeighborhoodSearchLocal-random-withoutLS\", \"IteratedLocalSearch-random\",\"MultipleStartLocalSearch-random\", \"weightedRegretHeuristic\", \"localSearch-Steepest-Edges-Random\"]\n",
    "report_solvers = solver_types[:2]\n",
    "instances = ['A', 'B']\n",
    "\n",
    "all_json_data = load_all_json_data(solver_types)\n",
    "\n",
    "table, best_solutions = get_best_solutions_and_vertical_table(solver_types,instances,all_json_data)"
   ]
  },
  {
   "cell_type": "code",
   "execution_count": 3,
   "metadata": {},
   "outputs": [
    {
     "data": {
      "text/html": [
       "<table border=\"1\" class=\"dataframe\">\n",
       "  <thead>\n",
       "    <tr style=\"text-align: right;\">\n",
       "      <th>Method</th>\n",
       "      <th>Instance A</th>\n",
       "      <th>Instance B</th>\n",
       "    </tr>\n",
       "  </thead>\n",
       "  <tbody>\n",
       "    <tr>\n",
       "      <td>LargeNeighborhoodSearchLocal-random-withLS</td>\n",
       "      <td>69947.2 (69444.0-70453.0)</td>\n",
       "      <td>44352.0 (43645.0-45572.0)</td>\n",
       "    </tr>\n",
       "    <tr>\n",
       "      <td>LargeNeighborhoodSearchLocal-random-withoutLS</td>\n",
       "      <td>70108.5 (69381.0-70733.0)</td>\n",
       "      <td>44788.1 (43834.0-46079.0)</td>\n",
       "    </tr>\n",
       "    <tr>\n",
       "      <td>IteratedLocalSearch-random</td>\n",
       "      <td>69666.1 (69262.0-70270.0)</td>\n",
       "      <td>44126.2 (43652.0-44659.0)</td>\n",
       "    </tr>\n",
       "    <tr>\n",
       "      <td>MultipleStartLocalSearch-random</td>\n",
       "      <td>71346.7 (70906.0-71878.0)</td>\n",
       "      <td>45932.1 (45175.0-46402.0)</td>\n",
       "    </tr>\n",
       "    <tr>\n",
       "      <td>weightedRegretHeuristic</td>\n",
       "      <td>72062.1 (70492.0-74620.0)</td>\n",
       "      <td>48817.3 (44900.0-53078.0)</td>\n",
       "    </tr>\n",
       "    <tr>\n",
       "      <td>localSearch-Steepest-Edges-Random</td>\n",
       "      <td>73994.9 (71563.0-78026.0)</td>\n",
       "      <td>48342.2 (45786.0-51660.0)</td>\n",
       "    </tr>\n",
       "  </tbody>\n",
       "</table>"
      ],
      "text/plain": [
       "<IPython.core.display.HTML object>"
      ]
     },
     "metadata": {},
     "output_type": "display_data"
    }
   ],
   "source": [
    "display_html(table,False)"
   ]
  },
  {
   "cell_type": "markdown",
   "metadata": {},
   "source": [
    "<p style=\"page-break-after:always;\"></p>\n",
    "\n",
    "Table containing elapsed time in ms."
   ]
  },
  {
   "cell_type": "code",
   "execution_count": 4,
   "metadata": {},
   "outputs": [
    {
     "data": {
      "text/html": [
       "<table border=\"1\" class=\"dataframe\">\n",
       "  <thead>\n",
       "    <tr style=\"text-align: right;\">\n",
       "      <th>Method</th>\n",
       "      <th>Instance A</th>\n",
       "      <th>Instance B</th>\n",
       "    </tr>\n",
       "  </thead>\n",
       "  <tbody>\n",
       "    <tr>\n",
       "      <td>LargeNeighborhoodSearchLocal-random-withLS</td>\n",
       "      <td>2770.7 (2752.5-2860.4)</td>\n",
       "      <td>2758.7 (2755.0-2762.9)</td>\n",
       "    </tr>\n",
       "    <tr>\n",
       "      <td>LargeNeighborhoodSearchLocal-random-withoutLS</td>\n",
       "      <td>2765.9 (2752.2-2866.9)</td>\n",
       "      <td>2758.2 (2752.8-2766.6)</td>\n",
       "    </tr>\n",
       "    <tr>\n",
       "      <td>IteratedLocalSearch-random</td>\n",
       "      <td>2764.3 (2753.0-2866.9)</td>\n",
       "      <td>2756.4 (2753.3-2762.1)</td>\n",
       "    </tr>\n",
       "    <tr>\n",
       "      <td>MultipleStartLocalSearch-random</td>\n",
       "      <td>2739.1 (2653.0-3359.6)</td>\n",
       "      <td>2811.9 (2678.8-3087.0)</td>\n",
       "    </tr>\n",
       "    <tr>\n",
       "      <td>weightedRegretHeuristic</td>\n",
       "      <td>21.8 (18.4-53.2)</td>\n",
       "      <td>23.6 (18.6-117.2)</td>\n",
       "    </tr>\n",
       "    <tr>\n",
       "      <td>localSearch-Steepest-Edges-Random</td>\n",
       "      <td>220.7 (166.9-857.6)</td>\n",
       "      <td>216.1 (161.8-340.7)</td>\n",
       "    </tr>\n",
       "  </tbody>\n",
       "</table>"
      ],
      "text/plain": [
       "<IPython.core.display.HTML object>"
      ]
     },
     "metadata": {},
     "output_type": "display_data"
    }
   ],
   "source": [
    "timeTable, _ = get_best_solutions_and_vertical_table(solver_types,instances,all_json_data,\"elapsed time\")\n",
    "\n",
    "display_html(timeTable,False)"
   ]
  },
  {
   "cell_type": "markdown",
   "metadata": {},
   "source": [
    "Table containing iterations of Iterated Local Search"
   ]
  },
  {
   "cell_type": "code",
   "execution_count": 5,
   "metadata": {},
   "outputs": [
    {
     "data": {
      "text/html": [
       "<table border=\"1\" class=\"dataframe\">\n",
       "  <thead>\n",
       "    <tr style=\"text-align: right;\">\n",
       "      <th>Method</th>\n",
       "      <th>Instance A</th>\n",
       "      <th>Instance B</th>\n",
       "    </tr>\n",
       "  </thead>\n",
       "  <tbody>\n",
       "    <tr>\n",
       "      <td>LargeNeighborhoodSearchLocal-random-withLS</td>\n",
       "      <td>311.9 (208-339)</td>\n",
       "      <td>323.4 (282-332)</td>\n",
       "    </tr>\n",
       "    <tr>\n",
       "      <td>LargeNeighborhoodSearchLocal-random-withoutLS</td>\n",
       "      <td>380.6 (323-411)</td>\n",
       "      <td>396.1 (377-412)</td>\n",
       "    </tr>\n",
       "    <tr>\n",
       "      <td>IteratedLocalSearch-random</td>\n",
       "      <td>937.5 (772-1039)</td>\n",
       "      <td>1016.3 (965-1074)</td>\n",
       "    </tr>\n",
       "  </tbody>\n",
       "</table>"
      ],
      "text/plain": [
       "<IPython.core.display.HTML object>"
      ]
     },
     "metadata": {},
     "output_type": "display_data"
    }
   ],
   "source": [
    "iterTable, _ = get_best_solutions_and_vertical_table(solver_types[:3],instances,all_json_data,\"iterations\")\n",
    "\n",
    "display_html(iterTable,False)"
   ]
  },
  {
   "cell_type": "markdown",
   "metadata": {},
   "source": [
    "## Best solutions:"
   ]
  },
  {
   "cell_type": "markdown",
   "metadata": {},
   "source": [
    "The following solutions were checked with the solution checker."
   ]
  },
  {
   "cell_type": "code",
   "execution_count": 6,
   "metadata": {},
   "outputs": [
    {
     "name": "stdout",
     "output_type": "stream",
     "text": [
      "Solver type: LargeNeighborhoodSearchLocal-random-withLS\n",
      "                \tInstance: A\n",
      "                \tCity costs: 47813.0\n",
      "                \tEdge Length: 21631.0\n",
      "                \tObjective function: 69444.0\n",
      "                \tSolution:\n",
      "[51, 118, 59, 115, 46, 68, 139, 193, 41, 5, 42, 43, 116, 65, 149, 131, 184, 84, 112, 4, 190, 10, 177, 54, 48, 160, 34, 181, 146, 22, 159, 18, 69, 108, 140, 93, 117, 0, 143, 183, 89, 23, 137, 176, 80, 79, 63, 94, 124, 148, 9, 62, 144, 14, 49, 178, 106, 52, 55, 185, 40, 165, 90, 81, 196, 179, 57, 129, 92, 145, 78, 31, 56, 113, 175, 171, 16, 25, 44, 120, 2, 152, 97, 1, 101, 75, 86, 26, 100, 121, 53, 180, 154, 135, 70, 127, 123, 162, 133, 151]\n",
      "                \tSolution length: 100\n",
      "                \tNo repeats?: True\n",
      "                \tStarting from: 0\n",
      "                \tElapsed Time: 2784.5033\n",
      "\n",
      "                \tIterations: 253\n",
      "                  \n",
      "\n",
      "                \tInstance: B\n",
      "                \tCity costs: 24116.0\n",
      "                \tEdge Length: 19529.0\n",
      "                \tObjective function: 43645.0\n",
      "                \tSolution:\n",
      "[18, 62, 124, 106, 143, 35, 109, 0, 29, 160, 33, 138, 11, 139, 168, 195, 13, 145, 15, 3, 70, 132, 169, 188, 6, 147, 90, 51, 121, 131, 135, 122, 133, 107, 40, 63, 38, 27, 1, 156, 198, 117, 193, 31, 54, 73, 136, 190, 80, 162, 45, 142, 175, 78, 5, 177, 104, 8, 82, 21, 61, 36, 91, 141, 77, 81, 153, 187, 163, 103, 89, 127, 137, 114, 113, 176, 194, 166, 86, 185, 95, 130, 99, 22, 179, 66, 94, 47, 148, 60, 20, 28, 149, 4, 140, 183, 152, 170, 34, 55]\n",
      "                \tSolution length: 100\n",
      "                \tNo repeats?: True\n",
      "                \tStarting from: 0\n",
      "                \tElapsed Time: 2760.8649\n",
      "\n",
      "                \tIterations: 328\n",
      "                  \n",
      "\n",
      "Solver type: LargeNeighborhoodSearchLocal-random-withoutLS\n",
      "                \tInstance: A\n",
      "                \tCity costs: 47886.0\n",
      "                \tEdge Length: 21495.0\n",
      "                \tObjective function: 69381.0\n",
      "                \tSolution:\n",
      "[112, 4, 190, 10, 177, 54, 48, 160, 34, 181, 146, 22, 18, 108, 69, 159, 193, 41, 139, 115, 46, 68, 140, 93, 117, 0, 143, 183, 89, 23, 137, 176, 80, 79, 63, 94, 124, 148, 9, 62, 144, 14, 102, 49, 178, 106, 52, 55, 185, 40, 165, 90, 81, 196, 157, 31, 56, 113, 175, 171, 16, 25, 44, 120, 78, 145, 179, 57, 92, 129, 2, 152, 97, 1, 101, 75, 86, 26, 100, 121, 53, 180, 154, 135, 70, 127, 123, 162, 133, 151, 51, 118, 59, 65, 116, 43, 42, 184, 35, 84]\n",
      "                \tSolution length: 100\n",
      "                \tNo repeats?: True\n",
      "                \tStarting from: 0\n",
      "                \tElapsed Time: 2755.0735999999997\n",
      "\n",
      "                \tIterations: 402\n",
      "                  \n",
      "\n",
      "                \tInstance: B\n",
      "                \tCity costs: 24268.0\n",
      "                \tEdge Length: 19566.0\n",
      "                \tObjective function: 43834.0\n",
      "                \tSolution:\n",
      "[99, 22, 179, 66, 94, 47, 148, 60, 20, 28, 149, 4, 140, 183, 152, 170, 34, 55, 18, 62, 124, 106, 143, 35, 109, 0, 29, 168, 195, 13, 145, 15, 3, 70, 132, 169, 188, 6, 147, 90, 51, 121, 131, 135, 122, 133, 107, 40, 63, 38, 27, 16, 1, 156, 198, 117, 193, 31, 54, 73, 136, 190, 80, 162, 175, 78, 5, 177, 25, 182, 138, 139, 11, 33, 160, 144, 104, 8, 82, 21, 61, 36, 91, 141, 77, 81, 153, 187, 163, 89, 127, 103, 113, 176, 194, 166, 86, 185, 95, 130]\n",
      "                \tSolution length: 100\n",
      "                \tNo repeats?: True\n",
      "                \tStarting from: 0\n",
      "                \tElapsed Time: 2758.7989\n",
      "\n",
      "                \tIterations: 393\n",
      "                  \n",
      "\n"
     ]
    }
   ],
   "source": [
    "print_solutions(report_solvers,instances,best_solutions)"
   ]
  },
  {
   "cell_type": "markdown",
   "metadata": {},
   "source": [
    "## 2D visualizations:"
   ]
  },
  {
   "cell_type": "code",
   "execution_count": null,
   "metadata": {},
   "outputs": [],
   "source": [
    "import warnings\n",
    "warnings.filterwarnings(\"ignore\")\n",
    "\n",
    "coordinates = {\n",
    "    'A': load_coordinates_from_csv('../src/main/resources/instances/TSPA.csv'),\n",
    "    'B': load_coordinates_from_csv('../src/main/resources/instances/TSPB.csv')\n",
    "}\n",
    "\n",
    "plot_all(report_solvers, instances, coordinates, best_solutions)"
   ]
  },
  {
   "cell_type": "markdown",
   "metadata": {},
   "source": [
    "# Conclusions:\n",
    "\n",
    "Large Neighborhood Search (LNS) is a powerful heuristic for solving complex optimization problems, characterized by its ability to explore the solution space beyond local optima. By systematically destroying and repairing significant portions of a solution, LNS introduces diversification while retaining the core quality of the current solution. It seems risky but due to usage of now only heuristic but also Local Search, the solutions end up improving. This balance between exploration and exploitation makes it particularly effective for problems where traditional local search struggles to escape local optima. Interestingly looking at results, due to randomness, the algoritm is more likley to pick expensive nodes than in other solutions.\n",
    "\n",
    "Compared to Multiple Start Local Search (MSLS), which relies on repeated restarts and local optimization, LNS offers a more structured approach to diversification. This often leads to better outcomes, improving by almost 2000. It is however much slower than (ILS), making almost 3 times less operations.\n",
    "\n",
    "When comparing the two versions, the one with local search every loop iteration seems to perform slightly better. Unfortunatley it is also less time efficient making on average 70 less loops.\n",
    "\n",
    "LNS seems like a great balance between speed and quality of solutions."
   ]
  }
 ],
 "metadata": {
  "kernelspec": {
   "display_name": ".venv",
   "language": "python",
   "name": "python3"
  },
  "language_info": {
   "codemirror_mode": {
    "name": "ipython",
    "version": 3
   },
   "file_extension": ".py",
   "mimetype": "text/x-python",
   "name": "python",
   "nbconvert_exporter": "python",
   "pygments_lexer": "ipython3",
   "version": "3.9.6"
  }
 },
 "nbformat": 4,
 "nbformat_minor": 4
}

{
 "cells": [
  {
   "cell_type": "markdown",
   "metadata": {},
   "source": [
    "# Assignment 4: Candidate Moves"
   ]
  },
  {
   "cell_type": "markdown",
   "metadata": {},
   "source": [
    "- Łukasz Andryszewski 151930\n",
    "- Filip Firkowski 151946"
   ]
  },
  {
   "cell_type": "markdown",
   "metadata": {},
   "source": [
    "Link to the repository is: https://github.com/lucapl/Evolutionary-Computations."
   ]
  },
  {
   "cell_type": "code",
   "execution_count": null,
   "metadata": {},
   "outputs": [],
   "source": [
    "%load_ext autoreload\n",
    "%autoreload 2\n",
    "import pandas as pd\n",
    "\n",
    "from utils import *\n",
    "from plotting import *\n",
    "pd.set_option('display.max_colwidth', None)"
   ]
  },
  {
   "cell_type": "markdown",
   "metadata": {},
   "source": [
    "## Description of a problem:"
   ]
  },
  {
   "cell_type": "markdown",
   "metadata": {},
   "source": [
    "The problem is about selecting exactly 50% of the nodes to form a Hamiltonian cycle that minimizes the total distance of the path and the total cost of the selected nodes.\n",
    "\n",
    "In this report the candidate edges mechanism is evaluated. The goal being to speed up the steepest local search algorithm."
   ]
  },
  {
   "cell_type": "markdown",
   "metadata": {},
   "source": [
    "## Pseudocode of all implemented algorithms"
   ]
  },
  {
   "cell_type": "markdown",
   "metadata": {},
   "source": [
    "<style>\n",
    "  .no-page-break {\n",
    "    page-break-inside: avoid;\n",
    "  }\n",
    "</style>\n",
    "\n",
    "<div class=\"no-page-break\">\n",
    "  <h3>Steepest local search:</h3>\n",
    "  <pre>\n",
    "solution = generate_initial_solution()\n",
    "\n",
    "calculate_candidate_moves()\n",
    "\n",
    "while solution_is_improving:\n",
    "  for move in candidate_moves:\n",
    "    determine_move_type(solution)\n",
    "\n",
    "    calculate_move_cost_change(solution)\n",
    "\n",
    "    if change_in_cost_negative and cost_better_than_the_current_best:\n",
    "      record_best_move()\n",
    "\n",
    "  apply_move_to_solution(best_move)\n",
    "\n",
    "return solution\n",
    "  </pre>\n",
    "</div>\n",
    "\n",
    "<div class=\"no-page-break\">\n",
    "  <h3>Calculating candidate moves:</h3>\n",
    "  <pre>\n",
    "\n",
    "for city_i in cities:\n",
    "  for city_j in cities:\n",
    "    move_cost = cost(city_j) + distance(city_i,city_j)\n",
    "    potential_moves.add(move(city_i,city_j))\n",
    "  \n",
    "  potential_moves.sort()\n",
    "\n",
    "  candidate_moves.add(potential_moves.first_n(n=10))\n",
    "\n",
    "  </pre>\n",
    "</div>"
   ]
  },
  {
   "cell_type": "markdown",
   "metadata": {},
   "source": [
    "The complexity of calculating the candidate moves is $O(n^2)$, where n is the number of cities. However these are calculated only once.\n",
    "\n",
    "Here the neighbourhood of each city is calculated not only by the distance to each neighbour but also the neighbours cost."
   ]
  },
  {
   "cell_type": "markdown",
   "metadata": {},
   "source": [
    "<style>\n",
    "  table {\n",
    "    width: 100%;\n",
    "    table-layout: fixed;\n",
    "    word-wrap: break-word;\n",
    "  }\n",
    "</style>\n",
    "\n",
    "## Results of a computational experiments"
   ]
  },
  {
   "cell_type": "code",
   "execution_count": null,
   "metadata": {},
   "outputs": [],
   "source": [
    "solverName = \"candidateSearch\";\n",
    "intraTypes = [\"Nodes\", \"Edges\"];\n",
    "startTypes = [\"Random\"];\n",
    "instances = ['A', 'B']\n",
    "\n",
    "solver_types = [solverName+intraType+startType for intraType in intraTypes for startType in startTypes ]\n",
    "\n",
    "folder_path = '../out4'\n",
    "all_json_data = load_json_files_from_folder(folder_path)\n",
    "\n",
    "table, best_solutions = get_best_solutions_and_vertical_table(solver_types,instances,all_json_data)"
   ]
  },
  {
   "cell_type": "code",
   "execution_count": null,
   "metadata": {},
   "outputs": [],
   "source": [
    "localSearch = read_html('<table border=\"1\" class=\"dataframe\">\\n  <thead>\\n    <tr style=\"text-align: right;\">\\n      <th>Method</th>\\n      <th>Instance A</th>\\n      <th>Instance B</th>\\n    </tr>\\n  </thead>\\n  <tbody>\\n    <tr>\\n      <td>localSearchSteepestNodesRandom</td>\\n      <td>88106.7 (79865.0-98435.0)</td>\\n      <td>63238.6 (56390.0-72239.0)</td>\\n    </tr>\\n    <tr>\\n      <td>localSearchSteepestEdgesRandom</td>\\n      <td>74001.6 (71311.0-77763.0)</td>\\n      <td>48249.9 (45981.0-51599.0)</td>\\n    </tr>\\n  </tbody>\\n</table>')\n",
    "\n",
    "display_html(pd.concat([localSearch,table]),False)"
   ]
  },
  {
   "cell_type": "markdown",
   "metadata": {},
   "source": [
    "<p style=\"page-break-after:always;\"></p>\n",
    "\n",
    "Table containing elapsed time in ms."
   ]
  },
  {
   "cell_type": "code",
   "execution_count": null,
   "metadata": {},
   "outputs": [],
   "source": [
    "timeTable, _ = get_best_solutions_and_vertical_table(solver_types,instances,all_json_data,\"elapsed time\")\n",
    "localSearchTime = read_html('<table border=\"1\" class=\"dataframe\">\\n  <thead>\\n    <tr style=\"text-align: right;\">\\n      <th>Method</th>\\n      <th>Instance A</th>\\n      <th>Instance B</th>\\n    </tr>\\n  </thead>\\n  <tbody>\\n    <tr>\\n      <td>localSearchSteepestNodesRandom</td>\\n      <td>172.0 (136.8-430.3)</td>\\n      <td>169.2 (129.4-273.2)</td>\\n    </tr>\\n    <tr>\\n      <td>localSearchSteepestEdgesRandom</td>\\n      <td>118.9 (104.8-145.0)</td>\\n      <td>139.6 (105.2-496.6)</td>\\n    </tr>\\n  </tbody>\\n</table>')\n",
    "\n",
    "display_html(pd.concat([localSearchTime,timeTable]),False)"
   ]
  },
  {
   "cell_type": "markdown",
   "metadata": {},
   "source": [
    "## Best solutions:"
   ]
  },
  {
   "cell_type": "markdown",
   "metadata": {},
   "source": [
    "The following solutions were checked with the solution checker."
   ]
  },
  {
   "cell_type": "code",
   "execution_count": null,
   "metadata": {},
   "outputs": [],
   "source": [
    "print_solutions(solver_types,instances,best_solutions)"
   ]
  },
  {
   "cell_type": "markdown",
   "metadata": {},
   "source": [
    "## 2D visualizations:"
   ]
  },
  {
   "cell_type": "code",
   "execution_count": null,
   "metadata": {},
   "outputs": [],
   "source": [
    "import warnings\n",
    "warnings.filterwarnings(\"ignore\")\n",
    "\n",
    "coordinates = {\n",
    "    'A': load_coordinates_from_csv('../src/main/resources/instances/TSPA.csv'),\n",
    "    'B': load_coordinates_from_csv('../src/main/resources/instances/TSPB.csv')\n",
    "}\n",
    "\n",
    "plot_all(solver_types, instances, coordinates, best_solutions)"
   ]
  },
  {
   "cell_type": "markdown",
   "metadata": {},
   "source": [
    "<p style=\"page-break-after:always;\"></p>\n",
    "\n",
    "# Conclusions:\n",
    "\n",
    "Overall, using the candidate edges mechanisms drastically speeds up the steepest local search algorithm.\n",
    "\n",
    "At the same time it performs just slightly worse than the default steepest local search. There is an exchange between algorithm efficiency and the quality of the produced solution.\n",
    "\n",
    "The time performance is dependent on how many candidate moves are considered for each vertex. If the number of candidate moves is equal to the number of cities then the algorithm simply performs like steepest."
   ]
  }
 ],
 "metadata": {
  "kernelspec": {
   "display_name": ".venv",
   "language": "python",
   "name": "python3"
  },
  "language_info": {
   "codemirror_mode": {
    "name": "ipython",
    "version": 3
   },
   "file_extension": ".py",
   "mimetype": "text/x-python",
   "name": "python",
   "nbconvert_exporter": "python",
   "pygments_lexer": "ipython3",
   "version": "3.9.6"
  }
 },
 "nbformat": 4,
 "nbformat_minor": 4
}

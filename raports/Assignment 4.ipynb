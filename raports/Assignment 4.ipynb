{
 "cells": [
  {
   "cell_type": "markdown",
   "metadata": {},
   "source": [
    "# Assignment 4: Candidate Moves"
   ]
  },
  {
   "cell_type": "markdown",
   "metadata": {},
   "source": [
    "- Łukasz Andryszewski 151930\n",
    "- Filip Firkowski 151946"
   ]
  },
  {
   "cell_type": "markdown",
   "metadata": {},
   "source": [
    "Link to the repository is: https://github.com/lucapl/Evolutionary-Computations."
   ]
  },
  {
   "cell_type": "code",
   "execution_count": 1,
   "metadata": {},
   "outputs": [],
   "source": [
    "%load_ext autoreload\n",
    "%autoreload 2\n",
    "import pandas as pd\n",
    "\n",
    "from utils import *\n",
    "from plotting import *\n",
    "pd.set_option('display.max_colwidth', None)"
   ]
  },
  {
   "cell_type": "markdown",
   "metadata": {},
   "source": [
    "## Description of a problem:"
   ]
  },
  {
   "cell_type": "markdown",
   "metadata": {},
   "source": [
    "The problem is about selecting exactly 50% of the nodes to form a Hamiltonian cycle that minimizes the total distance of the path and the total cost of the selected nodes.\n",
    "\n",
    "In this report the candidate edges mechanism is evaluated. The goal being to speed up the steepest local search algorithm."
   ]
  },
  {
   "cell_type": "markdown",
   "metadata": {},
   "source": [
    "## Pseudocode of all implemented algorithms"
   ]
  },
  {
   "cell_type": "markdown",
   "metadata": {},
   "source": [
    "<style>\n",
    "  .no-page-break {\n",
    "    page-break-inside: avoid;\n",
    "  }\n",
    "</style>\n",
    "\n",
    "<div class=\"no-page-break\">\n",
    "  <h3>Steepest local search:</h3>\n",
    "  <pre>\n",
    "solution = generate_initial_solution()\n",
    "\n",
    "calculate_candidate_moves()\n",
    "\n",
    "while solution_is_improving:\n",
    "  for move in candidate_moves:\n",
    "    determine_move_type(solution)\n",
    "\n",
    "    calculate_move_cost_change(solution)\n",
    "\n",
    "    if change_in_cost_negative and cost_better_than_the_current_best:\n",
    "      record_best_move()\n",
    "\n",
    "  apply_move_to_solution(best_move)\n",
    "\n",
    "return solution\n",
    "  </pre>\n",
    "</div>\n",
    "\n",
    "<div class=\"no-page-break\">\n",
    "  <h3>Calculating candidate moves:</h3>\n",
    "  <pre>\n",
    "\n",
    "for city_i in cities:\n",
    "  for city_j in cities:\n",
    "    move_cost = cost(city_j) + distance(city_i,city_j)\n",
    "    potential_moves.add(move(city_i,city_j))\n",
    "  \n",
    "  potential_moves.sort()\n",
    "\n",
    "  candidate_moves.add(potential_moves.first_n(n=10))\n",
    "\n",
    "  </pre>\n",
    "</div>"
   ]
  },
  {
   "cell_type": "markdown",
   "metadata": {},
   "source": [
    "The complexity of calculating the candidate moves is $O(n^2)$, where n is the number of cities. However these are calculated only once.\n",
    "\n",
    "Here the neighbourhood of each city is calculated not only by the distance to each neighbour but also the neighbours cost."
   ]
  },
  {
   "cell_type": "markdown",
   "metadata": {},
   "source": [
    "<style>\n",
    "  table {\n",
    "    width: 100%;\n",
    "    table-layout: fixed;\n",
    "    word-wrap: break-word;\n",
    "  }\n",
    "</style>\n",
    "\n",
    "## Results of a computational experiments"
   ]
  },
  {
   "cell_type": "code",
   "execution_count": 2,
   "metadata": {},
   "outputs": [],
   "source": [
    "solverName = \"candidateSearch\";\n",
    "intraTypes = [\"Nodes\", \"Edges\"];\n",
    "startTypes = [\"Random\"];\n",
    "instances = ['A', 'B']\n",
    "\n",
    "solver_types = [solverName+intraType+startType for intraType in intraTypes for startType in startTypes ]\n",
    "\n",
    "folder_path = '../out4'\n",
    "all_json_data = load_json_files_from_folder(folder_path)\n",
    "\n",
    "table, best_solutions = get_best_solutions_and_vertical_table(solver_types,instances,all_json_data)"
   ]
  },
  {
   "cell_type": "code",
   "execution_count": 3,
   "metadata": {},
   "outputs": [
    {
     "data": {
      "text/html": [
       "<table border=\"1\" class=\"dataframe\">\n",
       "  <thead>\n",
       "    <tr style=\"text-align: right;\">\n",
       "      <th>Method</th>\n",
       "      <th>Instance A</th>\n",
       "      <th>Instance B</th>\n",
       "    </tr>\n",
       "  </thead>\n",
       "  <tbody>\n",
       "    <tr>\n",
       "      <td>localSearchSteepestNodesRandom</td>\n",
       "      <td>88106.7 (79865.0-98435.0)</td>\n",
       "      <td>63238.6 (56390.0-72239.0)</td>\n",
       "    </tr>\n",
       "    <tr>\n",
       "      <td>localSearchSteepestEdgesRandom</td>\n",
       "      <td>74001.6 (71311.0-77763.0)</td>\n",
       "      <td>48249.9 (45981.0-51599.0)</td>\n",
       "    </tr>\n",
       "    <tr>\n",
       "      <td>candidateSearchNodesRandom</td>\n",
       "      <td>94466.0 (85250.0-108355.0)</td>\n",
       "      <td>67891.4 (55644.0-80059.0)</td>\n",
       "    </tr>\n",
       "    <tr>\n",
       "      <td>candidateSearchEdgesRandom</td>\n",
       "      <td>74731.4 (72129.0-78667.0)</td>\n",
       "      <td>48645.5 (46040.0-51829.0)</td>\n",
       "    </tr>\n",
       "  </tbody>\n",
       "</table>"
      ],
      "text/plain": [
       "<IPython.core.display.HTML object>"
      ]
     },
     "metadata": {},
     "output_type": "display_data"
    }
   ],
   "source": [
    "localSearch = read_html('<table border=\"1\" class=\"dataframe\">\\n  <thead>\\n    <tr style=\"text-align: right;\">\\n      <th>Method</th>\\n      <th>Instance A</th>\\n      <th>Instance B</th>\\n    </tr>\\n  </thead>\\n  <tbody>\\n    <tr>\\n      <td>localSearchSteepestNodesRandom</td>\\n      <td>88106.7 (79865.0-98435.0)</td>\\n      <td>63238.6 (56390.0-72239.0)</td>\\n    </tr>\\n    <tr>\\n      <td>localSearchSteepestEdgesRandom</td>\\n      <td>74001.6 (71311.0-77763.0)</td>\\n      <td>48249.9 (45981.0-51599.0)</td>\\n    </tr>\\n  </tbody>\\n</table>')\n",
    "\n",
    "display_html(pd.concat([localSearch,table]),False)"
   ]
  },
  {
   "cell_type": "markdown",
   "metadata": {},
   "source": [
    "<p style=\"page-break-after:always;\"></p>\n",
    "\n",
    "Table containing elapsed time in ms."
   ]
  },
  {
   "cell_type": "code",
   "execution_count": 4,
   "metadata": {},
   "outputs": [
    {
     "data": {
      "text/html": [
       "<table border=\"1\" class=\"dataframe\">\n",
       "  <thead>\n",
       "    <tr style=\"text-align: right;\">\n",
       "      <th>Method</th>\n",
       "      <th>Instance A</th>\n",
       "      <th>Instance B</th>\n",
       "    </tr>\n",
       "  </thead>\n",
       "  <tbody>\n",
       "    <tr>\n",
       "      <td>localSearchSteepestNodesRandom</td>\n",
       "      <td>172.0 (136.8-430.3)</td>\n",
       "      <td>169.2 (129.4-273.2)</td>\n",
       "    </tr>\n",
       "    <tr>\n",
       "      <td>localSearchSteepestEdgesRandom</td>\n",
       "      <td>118.9 (104.8-145.0)</td>\n",
       "      <td>139.6 (105.2-496.6)</td>\n",
       "    </tr>\n",
       "    <tr>\n",
       "      <td>candidateSearchNodesRandom</td>\n",
       "      <td>24.3 (16.2-123.1)</td>\n",
       "      <td>22.7 (16.6-48.4)</td>\n",
       "    </tr>\n",
       "    <tr>\n",
       "      <td>candidateSearchEdgesRandom</td>\n",
       "      <td>19.3 (15.3-39.9)</td>\n",
       "      <td>18.0 (14.6-27.7)</td>\n",
       "    </tr>\n",
       "  </tbody>\n",
       "</table>"
      ],
      "text/plain": [
       "<IPython.core.display.HTML object>"
      ]
     },
     "metadata": {},
     "output_type": "display_data"
    }
   ],
   "source": [
    "timeTable, _ = get_best_solutions_and_vertical_table(solver_types,instances,all_json_data,\"elapsed time\")\n",
    "localSearchTime = read_html('<table border=\"1\" class=\"dataframe\">\\n  <thead>\\n    <tr style=\"text-align: right;\">\\n      <th>Method</th>\\n      <th>Instance A</th>\\n      <th>Instance B</th>\\n    </tr>\\n  </thead>\\n  <tbody>\\n    <tr>\\n      <td>localSearchSteepestNodesRandom</td>\\n      <td>172.0 (136.8-430.3)</td>\\n      <td>169.2 (129.4-273.2)</td>\\n    </tr>\\n    <tr>\\n      <td>localSearchSteepestEdgesRandom</td>\\n      <td>118.9 (104.8-145.0)</td>\\n      <td>139.6 (105.2-496.6)</td>\\n    </tr>\\n  </tbody>\\n</table>')\n",
    "\n",
    "display_html(pd.concat([localSearchTime,timeTable]),False)"
   ]
  },
  {
   "cell_type": "markdown",
   "metadata": {},
   "source": [
    "## Best solutions:"
   ]
  },
  {
   "cell_type": "markdown",
   "metadata": {},
   "source": [
    "The following solutions were checked with the solution checker."
   ]
  },
  {
   "cell_type": "code",
   "execution_count": 5,
   "metadata": {},
   "outputs": [
    {
     "name": "stdout",
     "output_type": "stream",
     "text": [
      "Solver type: candidateSearchNodesRandom\n",
      "                \tInstance: A\n",
      "                \tCity costs: 48276.0\n",
      "                \tEdge Length: 36974.0\n",
      "                \tObjective function: 85250.0\n",
      "                \tSolution:\n",
      "[148, 37, 124, 94, 176, 80, 63, 101, 75, 86, 135, 127, 112, 4, 10, 177, 184, 43, 116, 51, 0, 117, 93, 140, 108, 68, 139, 18, 193, 41, 159, 22, 146, 34, 54, 160, 181, 42, 5, 59, 118, 143, 183, 89, 57, 78, 44, 120, 133, 162, 151, 137, 186, 23, 46, 115, 65, 149, 123, 79, 97, 2, 92, 129, 26, 100, 53, 154, 70, 180, 121, 1, 152, 167, 49, 102, 196, 31, 113, 175, 171, 16, 145, 179, 185, 40, 90, 165, 52, 55, 106, 178, 3, 14, 21, 7, 144, 9, 62, 15]\n",
      "                \tSolution length: 100\n",
      "                \tNo repeats?: True\n",
      "                \tStarting from: 193\n",
      "                \tElapsed Time: 30.543499999999998\n",
      "\n",
      "                \tIterations: 141\n",
      "                  \n",
      "\n",
      "                \tInstance: B\n",
      "                \tCity costs: 25439.0\n",
      "                \tEdge Length: 30205.0\n",
      "                \tObjective function: 55644.0\n",
      "                \tSolution:\n",
      "[54, 164, 73, 190, 80, 175, 36, 141, 187, 163, 103, 113, 89, 127, 137, 114, 26, 176, 194, 166, 86, 124, 35, 109, 69, 34, 18, 55, 140, 183, 62, 106, 153, 81, 77, 82, 111, 143, 128, 95, 185, 179, 94, 47, 148, 20, 28, 152, 170, 13, 195, 168, 11, 33, 160, 144, 8, 0, 29, 169, 188, 134, 182, 25, 5, 177, 104, 138, 139, 132, 70, 15, 3, 155, 189, 145, 6, 147, 90, 16, 27, 38, 135, 10, 133, 122, 107, 40, 100, 63, 131, 121, 112, 1, 24, 156, 198, 117, 193, 31]\n",
      "                \tSolution length: 100\n",
      "                \tNo repeats?: True\n",
      "                \tStarting from: 66\n",
      "                \tElapsed Time: 20.8924\n",
      "\n",
      "                \tIterations: 141\n",
      "                  \n",
      "\n",
      "Solver type: candidateSearchEdgesRandom\n",
      "                \tInstance: A\n",
      "                \tCity costs: 49212.0\n",
      "                \tEdge Length: 22917.0\n",
      "                \tObjective function: 72129.0\n",
      "                \tSolution:\n",
      "[176, 51, 151, 162, 133, 79, 63, 121, 152, 2, 129, 92, 57, 55, 52, 178, 3, 106, 185, 40, 119, 165, 90, 81, 196, 145, 78, 31, 113, 175, 171, 16, 25, 44, 82, 120, 75, 86, 101, 1, 97, 26, 100, 53, 158, 180, 154, 135, 70, 127, 123, 112, 149, 131, 65, 47, 116, 43, 5, 42, 160, 184, 190, 10, 177, 54, 48, 34, 181, 146, 22, 18, 159, 193, 41, 139, 115, 59, 118, 46, 68, 117, 0, 143, 183, 89, 23, 137, 186, 15, 144, 14, 49, 62, 9, 37, 148, 124, 94, 80]\n",
      "                \tSolution length: 100\n",
      "                \tNo repeats?: True\n",
      "                \tStarting from: 0\n",
      "                \tElapsed Time: 39.9127\n",
      "\n",
      "                \tIterations: 137\n",
      "                  \n",
      "\n",
      "                \tInstance: B\n",
      "                \tCity costs: 25904.0\n",
      "                \tEdge Length: 20136.0\n",
      "                \tObjective function: 46040.0\n",
      "                \tSolution:\n",
      "[184, 155, 145, 15, 3, 70, 161, 132, 13, 195, 168, 169, 188, 6, 147, 90, 121, 135, 122, 133, 10, 107, 40, 63, 38, 27, 1, 156, 198, 117, 193, 54, 31, 164, 73, 136, 190, 80, 162, 175, 78, 142, 45, 5, 177, 36, 61, 91, 141, 77, 82, 87, 21, 8, 104, 138, 33, 160, 144, 29, 0, 109, 35, 143, 124, 128, 106, 81, 153, 163, 165, 127, 89, 103, 113, 180, 176, 194, 166, 86, 185, 95, 130, 99, 22, 179, 94, 47, 148, 60, 20, 28, 140, 183, 62, 18, 55, 34, 152, 170]\n",
      "                \tSolution length: 100\n",
      "                \tNo repeats?: True\n",
      "                \tStarting from: 3\n",
      "                \tElapsed Time: 18.6194\n",
      "\n",
      "                \tIterations: 140\n",
      "                  \n",
      "\n"
     ]
    }
   ],
   "source": [
    "print_solutions(solver_types,instances,best_solutions)"
   ]
  },
  {
   "cell_type": "markdown",
   "metadata": {},
   "source": [
    "## 2D visualizations:"
   ]
  },
  {
   "cell_type": "code",
   "execution_count": null,
   "metadata": {},
   "outputs": [],
   "source": [
    "import warnings\n",
    "warnings.filterwarnings(\"ignore\")\n",
    "\n",
    "coordinates = {\n",
    "    'A': load_coordinates_from_csv('../src/main/resources/instances/TSPA.csv'),\n",
    "    'B': load_coordinates_from_csv('../src/main/resources/instances/TSPB.csv')\n",
    "}\n",
    "\n",
    "plot_all(solver_types, instances, coordinates, best_solutions)"
   ]
  },
  {
   "cell_type": "markdown",
   "metadata": {},
   "source": [
    "<p style=\"page-break-after:always;\"></p>\n",
    "\n",
    "# Conclusions:\n",
    "\n",
    "Overall, using the candidate edges mechanisms drastically speeds up the steepest local search algorithm.\n",
    "\n",
    "At the same time it performs just slightly worse than the default steepest local search. There is an exchange between algorithm efficiency and the quality of the produced solution.\n",
    "\n",
    "The time performance is dependent on how many candidate moves are considered for each vertex. If the number of candidate moves is equal to the number of cities then the algorithm simply performs like steepest."
   ]
  }
 ],
 "metadata": {
  "kernelspec": {
   "display_name": ".venv",
   "language": "python",
   "name": "python3"
  },
  "language_info": {
   "codemirror_mode": {
    "name": "ipython",
    "version": 3
   },
   "file_extension": ".py",
   "mimetype": "text/x-python",
   "name": "python",
   "nbconvert_exporter": "python",
   "pygments_lexer": "ipython3",
   "version": "3.9.6"
  }
 },
 "nbformat": 4,
 "nbformat_minor": 4
}

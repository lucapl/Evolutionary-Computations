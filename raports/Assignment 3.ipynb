{
 "cells": [
  {
   "cell_type": "markdown",
   "metadata": {},
   "source": [
    "# Assignment 3: Local Search"
   ]
  },
  {
   "cell_type": "markdown",
   "metadata": {},
   "source": [
    "- Łukasz Andryszewski 151930\n",
    "- Filip Firkowski 151946"
   ]
  },
  {
   "cell_type": "markdown",
   "metadata": {},
   "source": [
    "Link to the repository is: https://github.com/lucapl/Evolutionary-Computations."
   ]
  },
  {
   "cell_type": "code",
   "execution_count": 1,
   "metadata": {},
   "outputs": [],
   "source": [
    "%load_ext autoreload\n",
    "%autoreload 2\n",
    "import pandas as pd\n",
    "\n",
    "from IPython.display import display\n",
    "from io import StringIO  \n",
    "\n",
    "from utils import *\n",
    "from plotting import *\n",
    "pd.set_option('display.max_colwidth', None)"
   ]
  },
  {
   "cell_type": "markdown",
   "metadata": {},
   "source": [
    "## Description of a problem:"
   ]
  },
  {
   "cell_type": "markdown",
   "metadata": {},
   "source": [
    "The problem is about selecting exactly 50% of the nodes to form a Hamiltonian cycle that minimizes the total distance of the path and the total cost of the selected nodes."
   ]
  },
  {
   "cell_type": "markdown",
   "metadata": {},
   "source": [
    "## Pseudocode of all implemented algorithms"
   ]
  },
  {
   "cell_type": "markdown",
   "metadata": {},
   "source": [
    "<style>\n",
    "  .no-page-break {\n",
    "    page-break-inside: avoid;\n",
    "  }\n",
    "</style>\n",
    "\n",
    "<div class=\"no-page-break\">\n",
    "  <h3>Greedy Local Search:</h3>\n",
    "  <pre>\n",
    "generate_initial_solution()\n",
    "\n",
    "while solution_is_improving:\n",
    "  find_moves()\n",
    "\n",
    "  shuffle_moves()\n",
    "\n",
    "  for move in moves:\n",
    "    calculate_move_change_in_cost()\n",
    "\n",
    "    if change_in_cost_negative:\n",
    "      apply_move_to_solution(move)\n",
    "      break\n",
    "\n",
    "  solution.addAt(best_regret_city, city_best_index)\n",
    "\n",
    "return solution\n",
    "  </pre>\n",
    "</div>\n",
    "\n",
    "<div class=\"no-page-break\">\n",
    "  <h3>Steepest local search:</h3>\n",
    "  <pre>\n",
    "generate_initial_solution()\n",
    "\n",
    "while solution_is_improving:\n",
    "  find_moves()\n",
    "\n",
    "  for move in moves:\n",
    "    calculate_move_change_in_cost()\n",
    "\n",
    "    if change_in_cost_negative and cost_better_than_the_current_best:\n",
    "      record_best_move()\n",
    "\n",
    "  apply_move_to_solution(best_move)\n",
    "\n",
    "  solution.addAt(best_regret_city, city_best_index)\n",
    "\n",
    "return solution\n",
    "  </pre>\n",
    "</div>"
   ]
  },
  {
   "cell_type": "markdown",
   "metadata": {},
   "source": [
    "In this implementation, the two methods are combined into a single function and behave slighty differently depending on the solvers type.\n",
    "\n",
    "The initial solution is generated in two ways:\n",
    "- randomly\n",
    "- using the best previous heuristic function (in this case weighted regret)"
   ]
  },
  {
   "cell_type": "markdown",
   "metadata": {},
   "source": [
    "<style>\n",
    "  table {\n",
    "    width: 100%;\n",
    "    table-layout: fixed;\n",
    "    word-wrap: break-word;\n",
    "  }\n",
    "</style>\n",
    "\n",
    "## Results of a computational experiments"
   ]
  },
  {
   "cell_type": "code",
   "execution_count": null,
   "metadata": {},
   "outputs": [],
   "source": [
    "solverName = \"localSearch\";\n",
    "solverTypes = [\"Greedy\", \"Steepest\"];\n",
    "intraTypes = [\"Nodes\", \"Edges\"];\n",
    "startTypes = [\"Heuristic\", \"Random\"];\n",
    "instances = ['A', 'B']\n",
    "\n",
    "solver_types = [solverName+solverType+intraType+startType for solverType in solverTypes for intraType in intraTypes for startType in startTypes ]\n",
    "\n",
    "folder_path = '../out3'\n",
    "all_json_data = load_json_files_from_folder(folder_path)\n",
    "\n",
    "table, best_solutions = get_best_solutions_and_vertical_table(solver_types,instances,all_json_data)\n",
    "\n",
    "display_html(table,False)"
   ]
  },
  {
   "cell_type": "markdown",
   "metadata": {},
   "source": [
    "## Best solutions:"
   ]
  },
  {
   "cell_type": "markdown",
   "metadata": {},
   "source": [
    "The following solutions were checked with the solution checker."
   ]
  },
  {
   "cell_type": "code",
   "execution_count": null,
   "metadata": {},
   "outputs": [],
   "source": [
    "print_solutions(solver_types,instances,best_solutions)"
   ]
  },
  {
   "cell_type": "markdown",
   "metadata": {},
   "source": [
    "## 2D visualizations:"
   ]
  },
  {
   "cell_type": "code",
   "execution_count": null,
   "metadata": {},
   "outputs": [],
   "source": [
    "coordinates = {\n",
    "    'A': load_coordinates_from_csv('../src/main/resources/instances/TSPA.csv'),\n",
    "    'B': load_coordinates_from_csv('../src/main/resources/instances/TSPB.csv')\n",
    "}\n",
    "\n",
    "plot_all(solver_types, instances, coordinates, best_solutions)"
   ]
  },
  {
   "cell_type": "markdown",
   "metadata": {},
   "source": [
    "# Conclusions:"
   ]
  },
  {
   "cell_type": "markdown",
   "metadata": {},
   "source": [
    "<p style=\"page-break-after:always;\"></p>\n",
    "\n",
    "The table from the previous assignments as well as the current solvers detailing the previous solutions."
   ]
  },
  {
   "cell_type": "code",
   "execution_count": 21,
   "metadata": {},
   "outputs": [
    {
     "data": {
      "text/html": [
       "<table border=\"1\" class=\"dataframe\">\n",
       "  <thead>\n",
       "    <tr style=\"text-align: right;\">\n",
       "      <th>Method</th>\n",
       "      <th>Instance A</th>\n",
       "      <th>Instance B</th>\n",
       "    </tr>\n",
       "  </thead>\n",
       "  <tbody>\n",
       "    <tr>\n",
       "      <td>random</td>\n",
       "      <td>263489.285 (237318.0-292278.0)</td>\n",
       "      <td>213440.325 (184762.0-241502.0)</td>\n",
       "    </tr>\n",
       "    <tr>\n",
       "      <td>nn</td>\n",
       "      <td>85108.51 (83182.0-89433.0)</td>\n",
       "      <td>54390.43 (52319.0-59030.0)</td>\n",
       "    </tr>\n",
       "    <tr>\n",
       "      <td>nnAnywhere</td>\n",
       "      <td>80974.365 (78896.0-82368.0)</td>\n",
       "      <td>55015.845 (52992.0-57460.0)</td>\n",
       "    </tr>\n",
       "    <tr>\n",
       "      <td>greedyCycle</td>\n",
       "      <td>72617.585 (71488.0-74410.0)</td>\n",
       "      <td>51339.5 (48765.0-57324.0)</td>\n",
       "    </tr>\n",
       "    <tr>\n",
       "      <td>regretHeuristic</td>\n",
       "      <td>116681.18 (108804.0-123447.0)</td>\n",
       "      <td>70264.645 (65043.0-76325.0)</td>\n",
       "    </tr>\n",
       "    <tr>\n",
       "      <td>weightedRegretHeuristic</td>\n",
       "      <td>72127.31 (71108.0-73718.0)</td>\n",
       "      <td>50928.21 (47144.0-56747.0)</td>\n",
       "    </tr>\n",
       "  </tbody>\n",
       "</table>"
      ],
      "text/plain": [
       "<IPython.core.display.HTML object>"
      ]
     },
     "metadata": {},
     "output_type": "display_data"
    }
   ],
   "source": [
    "heuristics_table = \"\"\"\n",
    "'<table border=\"1\" class=\"dataframe\">\\n  <thead>\\n    <tr style=\"text-align: right;\">\\n      <th>Method</th>\\n      <th>Instance A</th>\\n      <th>Instance B</th>\\n    </tr>\\n  </thead>\\n  <tbody>\\n    <tr>\\n      <td>random</td>\\n      <td>263489.285 (237318.0-292278.0)</td>\\n      <td>213440.325 (184762.0-241502.0)</td>\\n    </tr>\\n    <tr>\\n      <td>nn</td>\\n      <td>85108.51 (83182.0-89433.0)</td>\\n      <td>54390.43 (52319.0-59030.0)</td>\\n    </tr>\\n    <tr>\\n      <td>nnAnywhere</td>\\n      <td>80974.365 (78896.0-82368.0)</td>\\n      <td>55015.845 (52992.0-57460.0)</td>\\n    </tr>\\n    <tr>\\n      <td>greedyCycle</td>\\n      <td>72617.585 (71488.0-74410.0)</td>\\n      <td>51339.5 (48765.0-57324.0)</td>\\n    </tr>\\n  </tbody>\\n</table>'\n",
    "\"\"\"\n",
    "regret_table = \"\"\"\n",
    "'<table border=\"1\" class=\"dataframe\">\\n  <thead>\\n    <tr style=\"text-align: right;\">\\n      <th>Method</th>\\n      <th>Instance A</th>\\n      <th>Instance B</th>\\n    </tr>\\n  </thead>\\n  <tbody>\\n    <tr>\\n      <td>regretHeuristic</td>\\n      <td>116681.18 (108804.0-123447.0)</td>\\n      <td>70264.645 (65043.0-76325.0)</td>\\n    </tr>\\n    <tr>\\n      <td>weightedRegretHeuristic</td>\\n      <td>72127.31 (71108.0-73718.0)</td>\\n      <td>50928.21 (47144.0-56747.0)</td>\\n    </tr>\\n  </tbody>\\n</table>'\n",
    "\"\"\"\n",
    "\n",
    "\n",
    "heuristics = pd.read_html(StringIO(heuristics_table))\n",
    "heuristics[0]\n",
    "regret = pd.read_html(StringIO(regret_table))\n",
    "regret[0]\n",
    "\n",
    "# add current table when ready\n",
    "display_html(pd.concat([heuristics[0],regret[0]]),False)"
   ]
  }
 ],
 "metadata": {
  "kernelspec": {
   "display_name": ".venv",
   "language": "python",
   "name": "python3"
  },
  "language_info": {
   "codemirror_mode": {
    "name": "ipython",
    "version": 3
   },
   "file_extension": ".py",
   "mimetype": "text/x-python",
   "name": "python",
   "nbconvert_exporter": "python",
   "pygments_lexer": "ipython3",
   "version": "3.9.6"
  }
 },
 "nbformat": 4,
 "nbformat_minor": 4
}

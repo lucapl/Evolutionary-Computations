{
 "cells": [
  {
   "cell_type": "markdown",
   "metadata": {},
   "source": [
    "# Assignment 6: Multiple start local search (MSLS) and iterated local search (ILS)"
   ]
  },
  {
   "cell_type": "markdown",
   "metadata": {},
   "source": [
    "- Łukasz Andryszewski 151930\n",
    "- Filip Firkowski 151946"
   ]
  },
  {
   "cell_type": "markdown",
   "metadata": {},
   "source": [
    "Link to the repository is: https://github.com/lucapl/Evolutionary-Computations."
   ]
  },
  {
   "cell_type": "code",
   "execution_count": null,
   "metadata": {},
   "outputs": [],
   "source": [
    "%load_ext autoreload\n",
    "%autoreload 2\n",
    "import pandas as pd\n",
    "\n",
    "from utils import *\n",
    "from plotting import *\n",
    "pd.set_option('display.max_colwidth', None)"
   ]
  },
  {
   "cell_type": "markdown",
   "metadata": {},
   "source": [
    "## Description of a problem:"
   ]
  },
  {
   "cell_type": "markdown",
   "metadata": {},
   "source": [
    "The problem is about selecting exactly 50% of the nodes to form a Hamiltonian cycle that minimizes the total distance of the path and the total cost of the selected nodes.\n",
    "\n",
    "In this report the candidate edges mechanism is evaluated. The goal being to speed up the steepest local search algorithm."
   ]
  },
  {
   "cell_type": "markdown",
   "metadata": {},
   "source": [
    "## Pseudocode of all implemented algorithms"
   ]
  },
  {
   "cell_type": "markdown",
   "metadata": {},
   "source": [
    "<style>\n",
    "  .no-page-break {\n",
    "    page-break-inside: avoid;\n",
    "  }\n",
    "</style>\n",
    "\n",
    "<div class=\"no-page-break\">\n",
    "  <h3>Multiple Start Local Search (MSLS):</h3>\n",
    "  <pre>\n",
    "function MultipleStartLocalSearch():\n",
    "  bestSolution = null\n",
    "  bestObjectiveValue = Infinity\n",
    "\n",
    "  for i = 1 to numberOfStarts:\n",
    "    initialSolution = createSolver().solve(randomStartingCity())\n",
    "    localSolution = localSearch(initialSolution)\n",
    "\n",
    "    currentObjectiveValue = localSolution.getObjectiveFunctionValue()\n",
    "    if currentObjectiveValue < bestObjectiveValue:\n",
    "      bestObjectiveValue = currentObjectiveValue\n",
    "      bestSolution = localSolution\n",
    "\n",
    "  return bestSolution\n",
    "\n",
    "function localSearch(solution):\n",
    "  moveset = createMoveset()\n",
    "  bestSolution = solution\n",
    "\n",
    "  for i = 1 to MAX_LOCAL_SEARCH_ITERATIONS:\n",
    "    bestMove = null\n",
    "    bestMoveCost = Infinity\n",
    "\n",
    "    for each move in moveset:\n",
    "      moveCost = evaluateMove(solution, move)\n",
    "      if moveCost < bestMoveCost:\n",
    "        bestMoveCost = moveCost\n",
    "        bestMove = move\n",
    "\n",
    "    if bestMove is not null:\n",
    "      solution.performMove(bestMove)\n",
    "      \n",
    "  return solution\n",
    "  </pre>\n",
    "</div>\n",
    "\n",
    "<div class=\"no-page-break\">\n",
    "  <h3>Iterated Local Search (ILS):</h3>\n",
    "  <pre>\n",
    "function IteratedLocalSearch():\n",
    "  initialSolution = createSolver().solve(randomStartingCity())\n",
    "  bestSolution = localSearch(initialSolution)\n",
    "  bestObjectiveValue = bestSolution.getObjectiveFunctionValue()\n",
    "\n",
    "  for iteration = 1 to maxIterations:\n",
    "    perturbedSolution = perturb(bestSolution)\n",
    "    newSolution = localSearch(perturbedSolution)\n",
    "\n",
    "    newObjectiveValue = newSolution.getObjectiveFunctionValue()\n",
    "    if newObjectiveValue < bestObjectiveValue:\n",
    "      bestSolution = newSolution\n",
    "      bestObjectiveValue = newObjectiveValue\n",
    "  \n",
    "  return bestSolution\n",
    "\n",
    "function perturb(solution):\n",
    "  perturbedSolution = copy(solution)\n",
    "  applyRandomSwapOrInversion(perturbedSolution)\n",
    "\n",
    "  return perturbedSolution\n",
    "  </pre>\n",
    "</div>\n"
   ]
  },
  {
   "cell_type": "markdown",
   "metadata": {},
   "source": [
    "<style>\n",
    "  table {\n",
    "    width: 100%;\n",
    "    table-layout: fixed;\n",
    "    word-wrap: break-word;\n",
    "  }\n",
    "</style>\n",
    "\n",
    "## Results of a computational experiments"
   ]
  },
  {
   "cell_type": "code",
   "execution_count": 1,
   "metadata": {},
   "outputs": [
    {
     "ename": "NameError",
     "evalue": "name 'load_json_files_from_folder' is not defined",
     "output_type": "error",
     "traceback": [
      "\u001b[1;31m---------------------------------------------------------------------------\u001b[0m",
      "\u001b[1;31mNameError\u001b[0m                                 Traceback (most recent call last)",
      "Cell \u001b[1;32mIn[1], line 5\u001b[0m\n\u001b[0;32m      2\u001b[0m instances \u001b[38;5;241m=\u001b[39m [\u001b[38;5;124m'\u001b[39m\u001b[38;5;124mA\u001b[39m\u001b[38;5;124m'\u001b[39m, \u001b[38;5;124m'\u001b[39m\u001b[38;5;124mB\u001b[39m\u001b[38;5;124m'\u001b[39m]\n\u001b[0;32m      4\u001b[0m folder_path \u001b[38;5;241m=\u001b[39m \u001b[38;5;124m'\u001b[39m\u001b[38;5;124m../out6\u001b[39m\u001b[38;5;124m'\u001b[39m\n\u001b[1;32m----> 5\u001b[0m all_json_data \u001b[38;5;241m=\u001b[39m \u001b[43mload_json_files_from_folder\u001b[49m(folder_path)\n\u001b[0;32m      7\u001b[0m table, best_solutions \u001b[38;5;241m=\u001b[39m get_best_solutions_and_vertical_table(solver_types,instances,all_json_data)\n",
      "\u001b[1;31mNameError\u001b[0m: name 'load_json_files_from_folder' is not defined"
     ]
    }
   ],
   "source": [
    "solver_types = [\"msls\", \"ils\"]\n",
    "instances = ['A', 'B']\n",
    "\n",
    "folder_path = '../out6'\n",
    "all_json_data = load_json_files_from_folder(folder_path)\n",
    "\n",
    "table, best_solutions = get_best_solutions_and_vertical_table(solver_types,instances,all_json_data)"
   ]
  },
  {
   "cell_type": "code",
   "execution_count": null,
   "metadata": {},
   "outputs": [],
   "source": [
    "localSearch = read_html('<table border=\"1\" class=\"dataframe\">\\n  <thead>\\n    <tr style=\"text-align: right;\">\\n      <th>Method</th>\\n      <th>Instance A</th>\\n      <th>Instance B</th>\\n    </tr>\\n  </thead>\\n  <tbody>\\n    <tr>\\n      <td>localSearchSteepestNodesRandom</td>\\n      <td>88106.7 (79865.0-98435.0)</td>\\n      <td>63238.6 (56390.0-72239.0)</td>\\n    </tr>\\n    <tr>\\n      <td>localSearchSteepestEdgesRandom</td>\\n      <td>74001.6 (71311.0-77763.0)</td>\\n      <td>48249.9 (45981.0-51599.0)</td>\\n    </tr>\\n  </tbody>\\n</table>')\n",
    "\n",
    "display_html(pd.concat([localSearch,table]),False)"
   ]
  },
  {
   "cell_type": "markdown",
   "metadata": {},
   "source": [
    "<p style=\"page-break-after:always;\"></p>\n",
    "\n",
    "Table containing elapsed time in ms."
   ]
  },
  {
   "cell_type": "code",
   "execution_count": null,
   "metadata": {},
   "outputs": [],
   "source": [
    "timeTable, _ = get_best_solutions_and_vertical_table(solver_types,instances,all_json_data,\"elapsed time\")\n",
    "localSearchTime = read_html('<table border=\"1\" class=\"dataframe\">\\n  <thead>\\n    <tr style=\"text-align: right;\">\\n      <th>Method</th>\\n      <th>Instance A</th>\\n      <th>Instance B</th>\\n    </tr>\\n  </thead>\\n  <tbody>\\n    <tr>\\n      <td>localSearchSteepestNodesRandom</td>\\n      <td>172.0 (136.8-430.3)</td>\\n      <td>169.2 (129.4-273.2)</td>\\n    </tr>\\n    <tr>\\n      <td>localSearchSteepestEdgesRandom</td>\\n      <td>118.9 (104.8-145.0)</td>\\n      <td>139.6 (105.2-496.6)</td>\\n    </tr>\\n  </tbody>\\n</table>')\n",
    "\n",
    "display_html(pd.concat([localSearchTime,timeTable]),False)"
   ]
  },
  {
   "cell_type": "markdown",
   "metadata": {},
   "source": [
    "## Best solutions:"
   ]
  },
  {
   "cell_type": "markdown",
   "metadata": {},
   "source": [
    "The following solutions were checked with the solution checker."
   ]
  },
  {
   "cell_type": "code",
   "execution_count": null,
   "metadata": {},
   "outputs": [],
   "source": [
    "print_solutions(solver_types,instances,best_solutions)"
   ]
  },
  {
   "cell_type": "markdown",
   "metadata": {},
   "source": [
    "## 2D visualizations:"
   ]
  },
  {
   "cell_type": "code",
   "execution_count": null,
   "metadata": {},
   "outputs": [],
   "source": [
    "import warnings\n",
    "warnings.filterwarnings(\"ignore\")\n",
    "\n",
    "coordinates = {\n",
    "    'A': load_coordinates_from_csv('../src/main/resources/instances/TSPA.csv'),\n",
    "    'B': load_coordinates_from_csv('../src/main/resources/instances/TSPB.csv')\n",
    "}\n",
    "\n",
    "plot_all(solver_types, instances, coordinates, best_solutions)"
   ]
  },
  {
   "cell_type": "markdown",
   "metadata": {},
   "source": [
    "<p style=\"page-break-after:always;\"></p>\n",
    "\n",
    "# Conclusions:\n",
    "\n",
    "Multiple Start Local Search (MSLS) enhances solution quality by performing multiple independent local searches from different starting points, increasing the chances of avoiding local minima. However, it can be computationally expensive as the number of starts grows.\n",
    "\n",
    "Iterated Local Search (ILS) improves a single solution through iterative perturbations and local searches, striking a balance between exploration and exploitation. The perturbation size and iteration count are key factors for optimal performance.\n",
    "\n",
    "Both MSLS and ILS aim to overcome local minima issues, with MSLS being more effective for diverse solutions and ILS excelling in refining a single solution. They complement each other well: MSLS can provide good initial solutions for ILS to improve. Proper tuning of parameters like perturbation size and number of starts is crucial for achieving the best results. \n",
    "\n",
    "However, overall ILS performed better because its focused iterative refinement tends to yield higher-quality solutions in fewer iterations compared to MSLS, which requires a larger computational effort. The more concentrated exploration in ILS allowed it to converge more effectively toward optimal solutions."
   ]
  }
 ],
 "metadata": {
  "kernelspec": {
   "display_name": "Python 3",
   "language": "python",
   "name": "python3"
  },
  "language_info": {
   "codemirror_mode": {
    "name": "ipython",
    "version": 3
   },
   "file_extension": ".py",
   "mimetype": "text/x-python",
   "name": "python",
   "nbconvert_exporter": "python",
   "pygments_lexer": "ipython3",
   "version": "3.12.2"
  }
 },
 "nbformat": 4,
 "nbformat_minor": 4
}

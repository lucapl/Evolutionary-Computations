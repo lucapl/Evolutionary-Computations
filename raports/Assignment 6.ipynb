{
 "cells": [
  {
   "cell_type": "markdown",
   "metadata": {},
   "source": [
    "# Assignment 6: Multiple start local search (MSLS) and iterated local search (ILS)"
   ]
  },
  {
   "cell_type": "markdown",
   "metadata": {},
   "source": [
    "- Łukasz Andryszewski 151930\n",
    "- Filip Firkowski 151946"
   ]
  },
  {
   "cell_type": "markdown",
   "metadata": {},
   "source": [
    "Link to the repository is: https://github.com/lucapl/Evolutionary-Computations."
   ]
  },
  {
   "cell_type": "code",
   "execution_count": 1,
   "metadata": {},
   "outputs": [],
   "source": [
    "%load_ext autoreload\n",
    "%autoreload 2\n",
    "import pandas as pd\n",
    "\n",
    "from utils import *\n",
    "from plotting import *\n",
    "pd.set_option('display.max_colwidth', None)"
   ]
  },
  {
   "cell_type": "markdown",
   "metadata": {},
   "source": [
    "## Description of a problem:"
   ]
  },
  {
   "cell_type": "markdown",
   "metadata": {},
   "source": [
    "The problem is about selecting exactly 50% of the nodes to form a Hamiltonian cycle that minimizes the total distance of the path and the total cost of the selected nodes.\n",
    "\n",
    "In this report the candidate edges mechanism is evaluated. The goal being to speed up the steepest local search algorithm."
   ]
  },
  {
   "cell_type": "markdown",
   "metadata": {},
   "source": [
    "## Pseudocode of all implemented algorithms"
   ]
  },
  {
   "cell_type": "markdown",
   "metadata": {},
   "source": [
    "<style>\n",
    "  .no-page-break {\n",
    "    page-break-inside: avoid;\n",
    "  }\n",
    "</style>\n",
    "\n",
    "<div class=\"no-page-break\">\n",
    "  <h3>Multiple Start Local Search (MSLS):</h3>\n",
    "  <pre>\n",
    "function MultipleStartLocalSearch():\n",
    "  bestSolution = null\n",
    "  bestObjectiveValue = Infinity\n",
    "\n",
    "  for i = 1 to numberOfStarts:\n",
    "    initialSolution = createSolver().solve(randomStartingCity())\n",
    "    localSolution = localSearch(initialSolution)\n",
    "\n",
    "    currentObjectiveValue = localSolution.getObjectiveFunctionValue()\n",
    "    if currentObjectiveValue < bestObjectiveValue:\n",
    "      bestObjectiveValue = currentObjectiveValue\n",
    "      bestSolution = localSolution\n",
    "\n",
    "  return bestSolution\n",
    "  </pre>\n",
    "</div>\n",
    "\n",
    "<div class=\"no-page-break\">\n",
    "  <h3>Iterated Local Search (ILS):</h3>\n",
    "  <pre>\n",
    "function IteratedLocalSearch():\n",
    "  initialSolution = createSolver().solve(randomStartingCity())\n",
    "  bestSolution = localSearch(initialSolution)\n",
    "  bestObjectiveValue = bestSolution.getObjectiveFunctionValue()\n",
    "\n",
    "  while time < MSLS_time:\n",
    "    perturbedSolution = perturb(bestSolution)\n",
    "    newSolution = localSearch(perturbedSolution)\n",
    "\n",
    "    newObjectiveValue = newSolution.getObjectiveFunctionValue()\n",
    "    if newObjectiveValue < bestObjectiveValue:\n",
    "      bestSolution = newSolution\n",
    "      bestObjectiveValue = newObjectiveValue\n",
    "  \n",
    "  return bestSolution\n",
    "\n",
    "function perturb(solution):\n",
    "  perturbedSolution = copy(solution)\n",
    "  for i in perturbationSize:\n",
    "    solution.remove(random_city)\n",
    "    new_city = problem.get(random())\n",
    "    solution.addAt(random(),new_city)\n",
    "  return perturbedSolution\n",
    "  </pre>\n",
    "</div>\n"
   ]
  },
  {
   "cell_type": "markdown",
   "metadata": {},
   "source": [
    "<style>\n",
    "  table {\n",
    "    width: 100%;\n",
    "    table-layout: fixed;\n",
    "    word-wrap: break-word;\n",
    "  }\n",
    "</style>\n",
    "\n",
    "## Results of a computational experiments"
   ]
  },
  {
   "cell_type": "code",
   "execution_count": 18,
   "metadata": {},
   "outputs": [
    {
     "data": {
      "text/html": [
       "<table border=\"1\" class=\"dataframe\">\n",
       "  <thead>\n",
       "    <tr style=\"text-align: right;\">\n",
       "      <th>Method</th>\n",
       "      <th>Instance A</th>\n",
       "      <th>Instance B</th>\n",
       "    </tr>\n",
       "  </thead>\n",
       "  <tbody>\n",
       "    <tr>\n",
       "      <td>MultipleStartLocalSearch-random</td>\n",
       "      <td>71346.7 (70906.0-71878.0)</td>\n",
       "      <td>45932.1 (45175.0-46402.0)</td>\n",
       "    </tr>\n",
       "    <tr>\n",
       "      <td>IteratedLocalSearch-random</td>\n",
       "      <td>69666.1 (69262.0-70270.0)</td>\n",
       "      <td>44126.2 (43652.0-44659.0)</td>\n",
       "    </tr>\n",
       "    <tr>\n",
       "      <td>localSearch-Steepest-Edges-Random</td>\n",
       "      <td>73994.9 (71563.0-78026.0)</td>\n",
       "      <td>48342.2 (45786.0-51660.0)</td>\n",
       "    </tr>\n",
       "    <tr>\n",
       "      <td>localSearch-Steepest-Edges-Heuristic</td>\n",
       "      <td>71349.0 (70163.0-72260.0)</td>\n",
       "      <td>48164.3 (44806.0-51961.0)</td>\n",
       "    </tr>\n",
       "    <tr>\n",
       "      <td>weightedRegretHeuristic</td>\n",
       "      <td>72062.1 (70492.0-74620.0)</td>\n",
       "      <td>48817.3 (44900.0-53078.0)</td>\n",
       "    </tr>\n",
       "  </tbody>\n",
       "</table>"
      ],
      "text/plain": [
       "<IPython.core.display.HTML object>"
      ]
     },
     "metadata": {},
     "output_type": "display_data"
    }
   ],
   "source": [
    "solver_types = [\"MultipleStartLocalSearch-random\", \"IteratedLocalSearch-random\",\"localSearch-Steepest-Edges-Random\",\"localSearch-Steepest-Edges-Heuristic\",\"weightedRegretHeuristic\"]\n",
    "report_solvers = solver_types[:2]\n",
    "instances = ['A', 'B']\n",
    "\n",
    "all_json_data = load_all_json_data(solver_types)\n",
    "\n",
    "table, best_solutions = get_best_solutions_and_vertical_table(solver_types,instances,all_json_data)\n",
    "\n",
    "display_html(table,False)"
   ]
  },
  {
   "cell_type": "markdown",
   "metadata": {},
   "source": [
    "<p style=\"page-break-after:always;\"></p>\n",
    "\n",
    "Table containing elapsed time in ms."
   ]
  },
  {
   "cell_type": "code",
   "execution_count": 19,
   "metadata": {},
   "outputs": [
    {
     "data": {
      "text/html": [
       "<table border=\"1\" class=\"dataframe\">\n",
       "  <thead>\n",
       "    <tr style=\"text-align: right;\">\n",
       "      <th>Method</th>\n",
       "      <th>Instance A</th>\n",
       "      <th>Instance B</th>\n",
       "    </tr>\n",
       "  </thead>\n",
       "  <tbody>\n",
       "    <tr>\n",
       "      <td>MultipleStartLocalSearch-random</td>\n",
       "      <td>2739.1 (2653.0-3359.6)</td>\n",
       "      <td>2811.9 (2678.8-3087.0)</td>\n",
       "    </tr>\n",
       "    <tr>\n",
       "      <td>IteratedLocalSearch-random</td>\n",
       "      <td>2764.3 (2753.0-2866.9)</td>\n",
       "      <td>2756.4 (2753.3-2762.1)</td>\n",
       "    </tr>\n",
       "    <tr>\n",
       "      <td>localSearch-Steepest-Edges-Random</td>\n",
       "      <td>220.7 (166.9-857.6)</td>\n",
       "      <td>216.1 (161.8-340.7)</td>\n",
       "    </tr>\n",
       "    <tr>\n",
       "      <td>localSearch-Steepest-Edges-Heuristic</td>\n",
       "      <td>44.0 (23.7-86.7)</td>\n",
       "      <td>39.9 (21.3-73.4)</td>\n",
       "    </tr>\n",
       "    <tr>\n",
       "      <td>weightedRegretHeuristic</td>\n",
       "      <td>21.8 (18.4-53.2)</td>\n",
       "      <td>23.6 (18.6-117.2)</td>\n",
       "    </tr>\n",
       "  </tbody>\n",
       "</table>"
      ],
      "text/plain": [
       "<IPython.core.display.HTML object>"
      ]
     },
     "metadata": {},
     "output_type": "display_data"
    }
   ],
   "source": [
    "timeTable, _ = get_best_solutions_and_vertical_table(solver_types,instances,all_json_data,\"elapsed time\")\n",
    "\n",
    "display_html(timeTable,False)"
   ]
  },
  {
   "cell_type": "markdown",
   "metadata": {},
   "source": [
    "Table containing iterations of Iterated Local Search"
   ]
  },
  {
   "cell_type": "code",
   "execution_count": 20,
   "metadata": {},
   "outputs": [
    {
     "data": {
      "text/html": [
       "<table border=\"1\" class=\"dataframe\">\n",
       "  <thead>\n",
       "    <tr style=\"text-align: right;\">\n",
       "      <th>Method</th>\n",
       "      <th>Instance A</th>\n",
       "      <th>Instance B</th>\n",
       "    </tr>\n",
       "  </thead>\n",
       "  <tbody>\n",
       "    <tr>\n",
       "      <td>IteratedLocalSearch-random</td>\n",
       "      <td>937.5 (772-1039)</td>\n",
       "      <td>1016.3 (965-1074)</td>\n",
       "    </tr>\n",
       "  </tbody>\n",
       "</table>"
      ],
      "text/plain": [
       "<IPython.core.display.HTML object>"
      ]
     },
     "metadata": {},
     "output_type": "display_data"
    }
   ],
   "source": [
    "iterTable, _ = get_best_solutions_and_vertical_table([solver_types[1]],instances,all_json_data,\"iterations\")\n",
    "\n",
    "display_html(iterTable,False)"
   ]
  },
  {
   "cell_type": "markdown",
   "metadata": {},
   "source": [
    "## Best solutions:"
   ]
  },
  {
   "cell_type": "markdown",
   "metadata": {},
   "source": [
    "The following solutions were checked with the solution checker."
   ]
  },
  {
   "cell_type": "code",
   "execution_count": 9,
   "metadata": {},
   "outputs": [
    {
     "name": "stdout",
     "output_type": "stream",
     "text": [
      "Solver type: MultipleStartLocalSearch-random\n",
      "                \tInstance: A\n",
      "                \tCity costs: 47847.0\n",
      "                \tEdge Length: 23059.0\n",
      "                \tObjective function: 70906.0\n",
      "                \tSolution:\n",
      "[162, 151, 133, 79, 122, 63, 94, 124, 152, 2, 129, 92, 57, 55, 52, 106, 178, 49, 102, 62, 9, 148, 137, 176, 80, 51, 118, 59, 149, 65, 116, 43, 5, 42, 181, 160, 184, 190, 10, 177, 54, 48, 34, 146, 22, 18, 108, 159, 193, 41, 139, 115, 46, 68, 140, 93, 117, 0, 143, 183, 89, 23, 186, 15, 144, 14, 185, 40, 165, 39, 164, 27, 90, 81, 196, 145, 78, 31, 56, 113, 175, 171, 16, 25, 44, 120, 75, 86, 101, 1, 97, 26, 100, 53, 180, 154, 135, 70, 127, 123]\n",
      "                \tSolution length: 100\n",
      "                \tNo repeats?: True\n",
      "                \tStarting from: 0\n",
      "                \tElapsed Time: 3359.6342999999997\n",
      "\n",
      "                \tInstance: B\n",
      "                \tCity costs: 25095.0\n",
      "                \tEdge Length: 20080.0\n",
      "                \tObjective function: 45175.0\n",
      "                \tSolution:\n",
      "[132, 169, 188, 6, 147, 51, 121, 131, 90, 122, 133, 10, 107, 40, 63, 135, 1, 24, 156, 42, 198, 117, 193, 31, 54, 73, 136, 190, 80, 45, 142, 175, 78, 5, 177, 25, 182, 138, 33, 160, 144, 104, 8, 82, 21, 61, 36, 141, 77, 81, 153, 187, 163, 89, 127, 103, 113, 176, 194, 166, 86, 95, 130, 99, 22, 185, 179, 66, 94, 47, 148, 60, 20, 28, 149, 4, 199, 140, 183, 152, 170, 34, 55, 18, 62, 128, 124, 106, 143, 35, 109, 0, 29, 11, 168, 195, 145, 15, 3, 70]\n",
      "                \tSolution length: 100\n",
      "                \tNo repeats?: True\n",
      "                \tStarting from: 8\n",
      "                \tElapsed Time: 3086.9687999999996\n",
      "\n",
      "Solver type: IteratedLocalSearch-random\n",
      "                \tInstance: A\n",
      "                \tCity costs: 47561.0\n",
      "                \tEdge Length: 21701.0\n",
      "                \tObjective function: 69262.0\n",
      "                \tSolution:\n",
      "[93, 140, 68, 46, 115, 139, 41, 193, 159, 69, 108, 18, 22, 146, 181, 34, 160, 48, 54, 177, 10, 190, 4, 112, 84, 184, 42, 43, 116, 65, 131, 149, 59, 118, 51, 151, 133, 162, 123, 127, 70, 135, 154, 180, 53, 100, 26, 86, 75, 101, 1, 97, 152, 2, 120, 44, 25, 129, 92, 57, 179, 145, 78, 16, 171, 175, 113, 56, 31, 196, 81, 90, 165, 119, 40, 185, 55, 52, 106, 178, 49, 14, 144, 62, 9, 148, 124, 94, 63, 79, 80, 176, 137, 23, 186, 89, 183, 143, 0, 117]\n",
      "                \tSolution length: 100\n",
      "                \tNo repeats?: True\n",
      "                \tStarting from: 0\n",
      "                \tElapsed Time: 2756.0947\n",
      "\n",
      "                \tIterations: 983\n",
      "                  \n",
      "\n",
      "                \tInstance: B\n",
      "                \tCity costs: 23841.0\n",
      "                \tEdge Length: 19811.0\n",
      "                \tObjective function: 43652.0\n",
      "                \tSolution:\n",
      "[160, 29, 0, 109, 35, 143, 106, 124, 62, 18, 55, 34, 170, 152, 183, 140, 4, 149, 28, 20, 60, 148, 47, 94, 66, 179, 99, 130, 95, 185, 86, 166, 194, 176, 113, 103, 114, 137, 127, 89, 163, 187, 153, 81, 77, 141, 91, 61, 36, 177, 5, 78, 175, 142, 45, 80, 190, 136, 73, 54, 31, 193, 117, 198, 1, 38, 63, 40, 107, 133, 122, 135, 131, 121, 51, 90, 191, 147, 6, 188, 169, 132, 70, 3, 15, 145, 13, 195, 168, 139, 11, 182, 138, 104, 8, 21, 82, 111, 144, 33]\n",
      "                \tSolution length: 100\n",
      "                \tNo repeats?: True\n",
      "                \tStarting from: 0\n",
      "                \tElapsed Time: 2756.397\n",
      "\n",
      "                \tIterations: 1042\n",
      "                  \n",
      "\n"
     ]
    }
   ],
   "source": [
    "print_solutions(report_solvers,instances,best_solutions)"
   ]
  },
  {
   "cell_type": "markdown",
   "metadata": {},
   "source": [
    "## 2D visualizations:"
   ]
  },
  {
   "cell_type": "code",
   "execution_count": null,
   "metadata": {},
   "outputs": [],
   "source": [
    "import warnings\n",
    "warnings.filterwarnings(\"ignore\")\n",
    "\n",
    "coordinates = {\n",
    "    'A': load_coordinates_from_csv('../src/main/resources/instances/TSPA.csv'),\n",
    "    'B': load_coordinates_from_csv('../src/main/resources/instances/TSPB.csv')\n",
    "}\n",
    "\n",
    "plot_all(report_solvers, instances, coordinates, best_solutions)"
   ]
  },
  {
   "cell_type": "markdown",
   "metadata": {},
   "source": [
    "# Conclusions:\n",
    "\n",
    "Multiple Start Local Search (MSLS) enhances solution quality by performing multiple independent local searches from different starting points, increasing the chances of avoiding local minima. However, it can be computationally expensive as the number of starts grows.\n",
    "\n",
    "Iterated Local Search (ILS) improves a single solution through iterative perturbations and local searches, striking a balance between exploration and exploitation. The perturbation size and iteration count are key factors for optimal performance.\n",
    "\n",
    "Both MSLS and ILS aim to overcome local minima issues, with MSLS being more effective for diverse solutions and ILS excelling in refining a single solution. They complement each other well: MSLS can provide good initial solutions for ILS to improve. Proper tuning of parameters like perturbation size and number of starts is crucial for achieving the best results. \n",
    "\n",
    "However, overall ILS performed better because its focused iterative refinement tends to yield higher-quality solutions in fewer iterations compared to MSLS, which requires a larger computational effort. The more concentrated exploration in ILS allowed it to converge more effectively toward optimal solutions."
   ]
  }
 ],
 "metadata": {
  "kernelspec": {
   "display_name": ".venv",
   "language": "python",
   "name": "python3"
  },
  "language_info": {
   "codemirror_mode": {
    "name": "ipython",
    "version": 3
   },
   "file_extension": ".py",
   "mimetype": "text/x-python",
   "name": "python",
   "nbconvert_exporter": "python",
   "pygments_lexer": "ipython3",
   "version": "3.9.6"
  }
 },
 "nbformat": 4,
 "nbformat_minor": 4
}

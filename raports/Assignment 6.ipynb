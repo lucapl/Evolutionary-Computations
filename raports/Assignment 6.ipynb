{
 "cells": [
  {
   "cell_type": "markdown",
   "metadata": {},
   "source": [
    "# Assignment 6: Multiple start local search (MSLS) and iterated local search (ILS)"
   ]
  },
  {
   "cell_type": "markdown",
   "metadata": {},
   "source": [
    "- Łukasz Andryszewski 151930\n",
    "- Filip Firkowski 151946"
   ]
  },
  {
   "cell_type": "markdown",
   "metadata": {},
   "source": [
    "Link to the repository is: https://github.com/lucapl/Evolutionary-Computations."
   ]
  },
  {
   "cell_type": "code",
   "execution_count": null,
   "metadata": {},
   "outputs": [],
   "source": [
    "%load_ext autoreload\n",
    "%autoreload 2\n",
    "import pandas as pd\n",
    "\n",
    "from utils import *\n",
    "from plotting import *\n",
    "pd.set_option('display.max_colwidth', None)"
   ]
  },
  {
   "cell_type": "markdown",
   "metadata": {},
   "source": [
    "## Description of a problem:"
   ]
  },
  {
   "cell_type": "markdown",
   "metadata": {},
   "source": [
    "The problem is about selecting exactly 50% of the nodes to form a Hamiltonian cycle that minimizes the total distance of the path and the total cost of the selected nodes.\n",
    "\n",
    "In this report the candidate edges mechanism is evaluated. The goal being to speed up the steepest local search algorithm."
   ]
  },
  {
   "cell_type": "markdown",
   "metadata": {},
   "source": [
    "## Pseudocode of all implemented algorithms"
   ]
  },
  {
   "cell_type": "markdown",
   "metadata": {},
   "source": [
    "<style>\n",
    "  .no-page-break {\n",
    "    page-break-inside: avoid;\n",
    "  }\n",
    "</style>\n",
    "\n",
    "<div class=\"no-page-break\">\n",
    "  <h3>Multiple Start Local Search (MSLS):</h3>\n",
    "  <pre>\n",
    "function MultipleStartLocalSearch():\n",
    "  bestSolution = null\n",
    "  bestObjectiveValue = Infinity\n",
    "\n",
    "  for i = 1 to numberOfStarts:\n",
    "    initialSolution = createSolver().solve(randomStartingCity())\n",
    "    localSolution = localSearch(initialSolution)\n",
    "\n",
    "    currentObjectiveValue = localSolution.getObjectiveFunctionValue()\n",
    "    if currentObjectiveValue < bestObjectiveValue:\n",
    "      bestObjectiveValue = currentObjectiveValue\n",
    "      bestSolution = localSolution\n",
    "\n",
    "  return bestSolution\n",
    "  </pre>\n",
    "</div>\n",
    "\n",
    "<div class=\"no-page-break\">\n",
    "  <pre>\n",
    "function localSearch(solution):\n",
    "  moveset = createMoveset()\n",
    "  bestSolution = solution\n",
    "\n",
    "  for i = 1 to MAX_LOCAL_SEARCH_ITERATIONS:\n",
    "    bestMove = null\n",
    "    bestMoveCost = Infinity\n",
    "\n",
    "    for each move in moveset:\n",
    "      moveCost = evaluateMove(solution, move)\n",
    "      if moveCost < bestMoveCost:\n",
    "        bestMoveCost = moveCost\n",
    "        bestMove = move\n",
    "\n",
    "    if bestMove is not null:\n",
    "      solution.performMove(bestMove)\n",
    "      \n",
    "  return solution\n",
    "  </pre>\n",
    "</div>\n",
    "\n",
    "<div class=\"no-page-break\">\n",
    "  <h3>Iterated Local Search (ILS):</h3>\n",
    "  <pre>\n",
    "function IteratedLocalSearch():\n",
    "  initialSolution = createSolver().solve(randomStartingCity())\n",
    "  bestSolution = localSearch(initialSolution)\n",
    "  bestObjectiveValue = bestSolution.getObjectiveFunctionValue()\n",
    "\n",
    "  for iteration = 1 to maxIterations:\n",
    "    perturbedSolution = perturb(bestSolution)\n",
    "    newSolution = localSearch(perturbedSolution)\n",
    "\n",
    "    newObjectiveValue = newSolution.getObjectiveFunctionValue()\n",
    "    if newObjectiveValue < bestObjectiveValue:\n",
    "      bestSolution = newSolution\n",
    "      bestObjectiveValue = newObjectiveValue\n",
    "  \n",
    "  return bestSolution\n",
    "\n",
    "function perturb(solution):\n",
    "  perturbedSolution = copy(solution)\n",
    "  applyRandomSwapOrInversion(perturbedSolution)\n",
    "\n",
    "  return perturbedSolution\n",
    "  </pre>\n",
    "</div>\n"
   ]
  },
  {
   "cell_type": "markdown",
   "metadata": {},
   "source": [
    "<style>\n",
    "  table {\n",
    "    width: 100%;\n",
    "    table-layout: fixed;\n",
    "    word-wrap: break-word;\n",
    "  }\n",
    "</style>\n",
    "\n",
    "## Results of a computational experiments"
   ]
  },
  {
   "cell_type": "code",
   "execution_count": null,
   "metadata": {},
   "outputs": [],
   "source": [
    "solver_types = [\"MultipleStartLocalSearch-random\", \"IteratedLocalSearch-random\",\"localSearch-Steepest-Edges-Random\",\"localSearch-Steepest-Edges-Heuristic\",\"weightedRegretHeuristic\"]\n",
    "report_solvers = solver_types[:2]\n",
    "instances = ['A', 'B']\n",
    "\n",
    "all_json_data = load_all_json_data(solver_types)\n",
    "\n",
    "table, best_solutions = get_best_solutions_and_vertical_table(solver_types,instances,all_json_data)"
   ]
  },
  {
   "cell_type": "code",
   "execution_count": null,
   "metadata": {},
   "outputs": [],
   "source": [
    "display_html(table,False)"
   ]
  },
  {
   "cell_type": "markdown",
   "metadata": {},
   "source": [
    "<p style=\"page-break-after:always;\"></p>\n",
    "\n",
    "Table containing elapsed time in ms."
   ]
  },
  {
   "cell_type": "code",
   "execution_count": null,
   "metadata": {},
   "outputs": [],
   "source": [
    "timeTable, _ = get_best_solutions_and_vertical_table(solver_types,instances,all_json_data,\"elapsed time\")\n",
    "\n",
    "display_html(timeTable,False)"
   ]
  },
  {
   "cell_type": "markdown",
   "metadata": {},
   "source": [
    "## Best solutions:"
   ]
  },
  {
   "cell_type": "markdown",
   "metadata": {},
   "source": [
    "The following solutions were checked with the solution checker."
   ]
  },
  {
   "cell_type": "code",
   "execution_count": null,
   "metadata": {},
   "outputs": [],
   "source": [
    "print_solutions(report_solvers,instances,best_solutions)"
   ]
  },
  {
   "cell_type": "markdown",
   "metadata": {},
   "source": [
    "## 2D visualizations:"
   ]
  },
  {
   "cell_type": "code",
   "execution_count": null,
   "metadata": {},
   "outputs": [],
   "source": [
    "import warnings\n",
    "warnings.filterwarnings(\"ignore\")\n",
    "\n",
    "coordinates = {\n",
    "    'A': load_coordinates_from_csv('../src/main/resources/instances/TSPA.csv'),\n",
    "    'B': load_coordinates_from_csv('../src/main/resources/instances/TSPB.csv')\n",
    "}\n",
    "\n",
    "plot_all(report_solvers, instances, coordinates, best_solutions)"
   ]
  },
  {
   "cell_type": "markdown",
   "metadata": {},
   "source": [
    "<p style=\"page-break-after:always;\"></p>\n",
    "\n",
    "# Conclusions:\n",
    "\n",
    "Multiple Start Local Search (MSLS) enhances solution quality by performing multiple independent local searches from different starting points, increasing the chances of avoiding local minima. However, it can be computationally expensive as the number of starts grows.\n",
    "\n",
    "Iterated Local Search (ILS) improves a single solution through iterative perturbations and local searches, striking a balance between exploration and exploitation. The perturbation size and iteration count are key factors for optimal performance.\n",
    "\n",
    "Both MSLS and ILS aim to overcome local minima issues, with MSLS being more effective for diverse solutions and ILS excelling in refining a single solution. They complement each other well: MSLS can provide good initial solutions for ILS to improve. Proper tuning of parameters like perturbation size and number of starts is crucial for achieving the best results. \n",
    "\n",
    "However, overall ILS performed better because its focused iterative refinement tends to yield higher-quality solutions in fewer iterations compared to MSLS, which requires a larger computational effort. The more concentrated exploration in ILS allowed it to converge more effectively toward optimal solutions."
   ]
  }
 ],
 "metadata": {
  "kernelspec": {
   "display_name": ".venv",
   "language": "python",
   "name": "python3"
  },
  "language_info": {
   "codemirror_mode": {
    "name": "ipython",
    "version": 3
   },
   "file_extension": ".py",
   "mimetype": "text/x-python",
   "name": "python",
   "nbconvert_exporter": "python",
   "pygments_lexer": "ipython3",
   "version": "3.9.6"
  }
 },
 "nbformat": 4,
 "nbformat_minor": 4
}
